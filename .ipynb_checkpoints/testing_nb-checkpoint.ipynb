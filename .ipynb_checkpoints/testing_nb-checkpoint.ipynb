{
 "cells": [
  {
   "cell_type": "code",
   "execution_count": 1,
   "metadata": {
    "collapsed": true
   },
   "outputs": [],
   "source": [
    "import pandas as pd \n",
    "import numpy as np\n",
    "import json"
   ]
  },
  {
   "cell_type": "code",
   "execution_count": 34,
   "metadata": {
    "collapsed": false
   },
   "outputs": [],
   "source": [
    "df = pd.read_csv('data/emoji_table.txt', encoding='utf-8', index_col=0)"
   ]
  },
  {
   "cell_type": "code",
   "execution_count": 35,
   "metadata": {
    "collapsed": false
   },
   "outputs": [],
   "source": [
    "df['count']=0"
   ]
  },
  {
   "cell_type": "code",
   "execution_count": 36,
   "metadata": {
    "collapsed": true
   },
   "outputs": [],
   "source": [
    "emoji_dict = df['count'].to_dict()"
   ]
  },
  {
   "cell_type": "code",
   "execution_count": 42,
   "metadata": {
    "collapsed": false
   },
   "outputs": [
    {
     "data": {
      "text/plain": [
       "u'\\U0001f600'"
      ]
     },
     "execution_count": 42,
     "metadata": {},
     "output_type": "execute_result"
    }
   ],
   "source": [
    "df.index[0]"
   ]
  },
  {
   "cell_type": "code",
   "execution_count": 40,
   "metadata": {
    "collapsed": false
   },
   "outputs": [
    {
     "name": "stdout",
     "output_type": "stream",
     "text": [
      "🇮🇨\n"
     ]
    }
   ],
   "source": [
    "for key in emoji_dict.keys():\n",
    "    print key\n",
    "    break"
   ]
  },
  {
   "cell_type": "code",
   "execution_count": 142,
   "metadata": {
    "collapsed": false
   },
   "outputs": [
    {
     "name": "stdout",
     "output_type": "stream",
     "text": [
      "⛹\n"
     ]
    }
   ],
   "source": [
    " print  u'\\u26f9'"
   ]
  },
  {
   "cell_type": "code",
   "execution_count": 2,
   "metadata": {
    "collapsed": false
   },
   "outputs": [],
   "source": [
    "tweets_data_path = 'data/twitter_dump_small.txt'\n",
    "\n",
    "tweets_data = []\n",
    "\n",
    "# parse tweets into json and store it in list\n",
    "tweets_file = open(tweets_data_path, \"r\")\n",
    "for line in tweets_file:\n",
    "    try:\n",
    "        tweet = json.loads(line)\n",
    "        tweets_data.append(tweet)\n",
    "    except:\n",
    "        continue\n"
   ]
  },
  {
   "cell_type": "code",
   "execution_count": 34,
   "metadata": {
    "collapsed": false
   },
   "outputs": [
    {
     "name": "stdout",
     "output_type": "stream",
     "text": [
      "14\n"
     ]
    },
    {
     "ename": "UnicodeEncodeError",
     "evalue": "'ascii' codec can't encode characters in position 10-13: ordinal not in range(128)",
     "output_type": "error",
     "traceback": [
      "\u001b[1;31m---------------------------------------------------------------------------\u001b[0m",
      "\u001b[1;31mUnicodeEncodeError\u001b[0m                        Traceback (most recent call last)",
      "\u001b[1;32m<ipython-input-34-65dd71fc75e1>\u001b[0m in \u001b[0;36m<module>\u001b[1;34m()\u001b[0m\n\u001b[0;32m      1\u001b[0m \u001b[1;32mprint\u001b[0m \u001b[0mlen\u001b[0m\u001b[1;33m(\u001b[0m\u001b[0mxx\u001b[0m\u001b[1;33m.\u001b[0m\u001b[0msplit\u001b[0m\u001b[1;33m(\u001b[0m\u001b[1;33m)\u001b[0m\u001b[1;33m[\u001b[0m\u001b[1;33m-\u001b[0m\u001b[1;36m1\u001b[0m\u001b[1;33m]\u001b[0m\u001b[1;33m)\u001b[0m\u001b[1;33m\u001b[0m\u001b[0m\n\u001b[0;32m      2\u001b[0m \u001b[1;33m\u001b[0m\u001b[0m\n\u001b[1;32m----> 3\u001b[1;33m \u001b[0mstr\u001b[0m\u001b[1;33m(\u001b[0m\u001b[0mxx\u001b[0m\u001b[1;33m.\u001b[0m\u001b[0msplit\u001b[0m\u001b[1;33m(\u001b[0m\u001b[1;33m)\u001b[0m\u001b[1;33m[\u001b[0m\u001b[1;33m-\u001b[0m\u001b[1;36m1\u001b[0m\u001b[1;33m]\u001b[0m\u001b[1;33m)\u001b[0m\u001b[1;33m[\u001b[0m\u001b[1;33m-\u001b[0m\u001b[1;36m1\u001b[0m\u001b[1;33m]\u001b[0m\u001b[1;33m\u001b[0m\u001b[0m\n\u001b[0m",
      "\u001b[1;31mUnicodeEncodeError\u001b[0m: 'ascii' codec can't encode characters in position 10-13: ordinal not in range(128)"
     ]
    }
   ],
   "source": [
    "print len(xx.split()[-1])\n",
    "\n",
    "str(xx.split()[-1])[-1]"
   ]
  },
  {
   "cell_type": "code",
   "execution_count": 49,
   "metadata": {
    "collapsed": false
   },
   "outputs": [],
   "source": [
    "z = xx.replace(u'\\U0001f60a', u' \\U0001f60a ')"
   ]
  },
  {
   "cell_type": "code",
   "execution_count": 50,
   "metadata": {
    "collapsed": false
   },
   "outputs": [
    {
     "data": {
      "text/plain": [
       "[u\"I've\",\n",
       " u'enjoyed',\n",
       " u'this',\n",
       " u'basketball',\n",
       " u'season',\n",
       " u'though....the',\n",
       " u'journey',\n",
       " u'was',\n",
       " u'sooo',\n",
       " u'fun',\n",
       " u'and',\n",
       " u'exciting',\n",
       " u'while',\n",
       " u'it',\n",
       " u'lasted....',\n",
       " u'\\U0001f60a',\n",
       " u'\\U0001f60a',\n",
       " u'\\U0001f49c\\U0001f49b']"
      ]
     },
     "execution_count": 50,
     "metadata": {},
     "output_type": "execute_result"
    }
   ],
   "source": [
    "z.split()"
   ]
  },
  {
   "cell_type": "code",
   "execution_count": 35,
   "metadata": {
    "collapsed": false
   },
   "outputs": [],
   "source": [
    "xx = tweets_data[13]['text']"
   ]
  },
  {
   "cell_type": "code",
   "execution_count": 35,
   "metadata": {
    "collapsed": true
   },
   "outputs": [
    {
     "name": "stdout",
     "output_type": "stream",
     "text": [
      "RT @1047KDUK: May you have as much fun with your weekend as Chris Martin and Blue Ivy are in these superbowl backstage pics https://t.co/fk…\n",
      "RT @SUPERELFS06: Preview/160305 LeeTeuk, Kangin &amp; HeeChul having fun at ICN ^^~  going to Shanghai ©orianejewel https://t.co/EBeIheowXx\n",
      "@Ronnie2K @LD2K your game is so shit I literally took it out mid game &amp; threw it out in the other room. actually had fun a couple days wtf\n",
      "RT @ShanSossamon: I miss all involved with this special movie &lt;3 https://t.co/VX1RLFITa1\n",
      "RT @TheObamaDiary: Fun Fact: In Clinton v Dole 96 presidential election, guess who Cenk Uygur voted for (he was 26)?\n",
      "\n",
      "Yep, Dole\n",
      "\n",
      "His Clinto…\n",
      "Having fun playing #CSRRacing for iOS, why not join me for FREE?\n",
      "https://t.co/PYVqtAKcxA\n",
      "RT @j15hooper: I wish I was a little kid again. No worries. No problems. No drama. No responsibility. Just playing and having fun.\n",
      "Photo - Fridays spent with friends are always fun, especially when Pudge is in town! #TexasRangers https://t.co/ULQx8nm2wP\n",
      "@DayAlabaster @Slate its all part of twitter fun #clintonmustgo\n",
      "https://t.co/ddIOlGP5CI https://t.co/1FPLncO2cY https://t.co/TNmZnZPLnu ...\n",
      "@RollingStone \n",
      "Cjclxucsy accused of a mineral water and friends and family members who are you guys doing anything fun with your gift\n",
      "@SubmissiveLexi your going to have Fun with that, when you get to use it.\n",
      "thank you shaniaaa https://t.co/zmMutSFgR8\n",
      "I've enjoyed this basketball season though....the journey was sooo fun and exciting while it lasted....😊😊💜💛\n",
      "I got my liptifulinternational in today. I'm having so much fun playing with this thing. #plump… https://t.co/iKzNga49ve\n",
      "my idea of a fun Friday night is rearranging the kitchen cabinets with @Fricke1947.  😘\n",
      "RT @JonahMarais: .@wydmarais_ that'd actually be so fun 😁🤘🏻\n",
      "This is definitely gonna be fun\n",
      "Twitter is only fun when @benshapiro and @Nero go at each other's throats.\n",
      "RT @VerucaJames: RT @AmarnaMiller: Having fun with @verucajames #BJ &amp;lt;3 https://t.co/6boXDK1Lkr\n",
      "RT @nicklamuro: @bphogan Yeah, that is a fun one from the world of OSX. They changed things so that native extensions compiling with warns …\n",
      "RT @MarriedAffairUK: Find a #sexual connection for discreet fun at...\n",
      "\n",
      "https://t.co/aPD2rvuFn4\n",
      "\n",
      "#sexualencounters #lprtg\n",
      "Teen has a group fucking fun. Alt hotKtie teenager #nudeCam #deepthroat #nudity https://t.co/APMbJbgomV https://t.co/ZFHzKJt1r4\n",
      "RT @IDareYouBamber: My grandma is having too much fun 😂 https://t.co/YCGP0k1aj0\n",
      "RT @dabmandan: don't date someone if you can't have fun at the grocery store with them\n",
      "RT @vibranthome: Fun Easter project for the children https://t.co/nKuibUdYnB\n",
      "Had some fun today with some blue 😍👌🏼⚫️🔵 https://t.co/Bo8bQSvPJU\n",
      "Spiderman &amp; Frozen Elsa vs Evil Queen! Elsa Gets a Gummy Joker Tongue! Superhero Fun in Real Life :)lll https://t.co/67seCbZQT8\n",
      "RT @SteveDeaceShow: Had a really fun interview with an atheist conservative today at #CPAC2016. I'll definitely share the video when it com…\n",
      "@Machu_ree @awlilnatty peeling is half the fun brother. Really lets you get to know the orange. Every orange has a personality\n",
      "RT @TheDukeNation: Did a fun Q&amp;A with Duke's newest commit, @5jackwhite! Will be releasing it tomorrow morning!\n",
      "\n",
      "P.S. #DukeNation is going …\n",
      "RT @yoonminist: i hope yasmin, sabrina, fia, and my other indo mutuals have fun today!!!!!\n",
      "nope you’re not RT @saimaloveee: am I the only one that doesn’t find hookah fun\n",
      "ppl need to stop using the word \"savage\" as an excuse to be rude and make fun of others. smh https://t.co/5fzPYB8Orp\n",
      "RT @xrzes: Being a vegetarian so fun I just got three bags of broccoli https://t.co/u5XbYNjste\n",
      "RT @Kansas_SOE: The @children Game On! participants, staff, and #KU visitors pose for a fun picture in Guatemala. https://t.co/RpQGWw6CJH\n",
      "RT @lala: Ladies of POWER @naturi4real @misslloren such a fun evening #powertv #comingsoon https://t.co/4nWgBhfD1o\n",
      "@miltonmustangs @MDHighSchool  https://t.co/NyDLroskU3\n",
      "RT @Taefresh_: When i wanna have fun, i freestyle. Nothing serious. Check out one of my latest freestyles😤🔥 https://t.co/0Tb8tSlnZY\n",
      "I know how it feels to want see the idol, and now you also feel it😂😋 Have fun there, iqbaal💋💃 https://t.co/vMv9AkrRiT\n",
      "RT @CoachSBechtel: Fun day at the pit! Proud of #OWUpv for taking 5 out of 8 places at the #NCACITRK16 today #WSAT #ohwooo #OWUTF #inTENsity\n",
      "@judahandthelion better man &amp; take it all back (cos it was so fun to dance to at your concert)\n",
      "RT @natekgarner: bye holidays it was fun!\n",
      "sooo is it summer yet?\n",
      "RT @91sammysam: Yesterdays color party was so much fun 👌🏽💗\n",
      "RT @Melissaa_ruiz: Back handsprings are fun!!!\n",
      "RT @SylvieD_xoxo: When you stay home watching everyone's snapchats of the fun they're having https://t.co/51Oa7E3mQ1\n",
      "Freudian slip? Searching Home Depot for a \"Nail Gun\" and I accidentally typed \"Nail Fun\". #girlscanlovepowertoolstoo\n",
      "#JaredLeto Had Fun Interacting with the #SuicideSquad Cast as #TheJoker https://t.co/V0yGcQbAMU\n",
      "RT @snsgroup: Great fun with @NicolaSturgeon this morning as she becomes the the official Patron of the @ScottishFA women's team. https://t…\n",
      "RT @simoncholland: My kid got made fun of at school because the clementine I sent in her lunch wasn't a name brand.\n",
      "moving is always fun 🙃\n",
      "RT @kd25___: Weed is just fun tobacco  https://t.co/4zZpPCB8QH\n",
      "why all fun\n",
      "The movie is here: https://t.co/gfjyysfoQV\n",
      "Morphed college whores having the best fun ever https://t.co/UcCi0hnMIo\n",
      "RT @TheObamaDiary: Fun Fact: In Clinton v Dole 96 presidential election, guess who Cenk Uygur voted for (he was 26)?\n",
      "\n",
      "Yep, Dole\n",
      "\n",
      "His Clinto…\n",
      "RT @CassidyJonesAdv: \"Fun. Suspenseful. Clean. Fast-paced. I can't recommend this series enough\" 4.8★ of 400+ rev https://t.co/TqJurz6eVv h…\n",
      "So much fun today w/@GwynethPaltrow learning about her new organic skincare line @goop! Product reviews coming soon https://t.co/VYuEzormgw\n",
      "#Bears News Matt Forte to Pats? Raiders go all-in? Five fun free agent fits (Shutdown Corner) https://t.co/SUwwtTNNdN\n",
      "RT @Neeru_Insaan: @Gurmeetramrahim the real fun in your movie is simply touching the mind and heart sensually. \n",
      "\n",
      "Omg. \n",
      "awesome feeling  #Fa…\n",
      "I'd like to personally thank the girl who was stood behind me at sleeping with sirens; for making fun of my height and then how I speak😒🖕🏼\n",
      "So that April 16 game should be fun\n",
      "Here is your fun fact of the day! Someone get me a bottle of A1 sauce. https://t.co/pxMW8v9zuz\n",
      "RT @wilson_baxter: Haha glad to know that was the first place you went to! Hope you two have fun 😂😂😂😂😂😂😂\n",
      "@SilverhawkARP That sounds like fun. What's London like?\n",
      "RT @MgaPatama: \"I want to refresh my mind, clear all my problems and just have fun with life.\"\n",
      "@ThirstyRando but i don't know why anyone would have purposely bred it that way unless just for fun or possibly silage or something\n",
      "@rnrkd um......fun vacay, looks like\n",
      "RT @TechCrunch: Shots Updates App To Focus On Fun https://t.co/d9x82GQ0k3\n",
      "For real fruity fun in your hand try this app from #Reflex Gaming! https://t.co/1ehcrndj7J https://t.co/zAGilXhZrg\n",
      "RT @MohamedAbbaass: مساء الفل عليكم يا احلى صحاب 😍\n",
      "#MohammadAbbas \n",
      "#party #fun #great #time #friends #love #you #all https://t.co/es2ugZBAbz\n",
      "RT @ChristoDoyle: Just for fun I made @goldrushtodd &amp; @goldrush_parker sit inches apart on #TheDirt tonight. Must see @Gold_Rush TV 8/7c @D…\n",
      "RT @BubblyRobinson: donald trump's sons kill (endangered) animals for fun. 🐸☕️  can y'all make this go viral or https://t.co/oWNTuy4wfz\n",
      "@NewOlderScene great 😀😀 fun to get away!\n",
      "Crazy sexy girls like to have fun. Do you agree? Check this: https://t.co/H2OlT4jicF #tits #bdsm #sextoys #kikgirl https://t.co/viqykptAhZ\n",
      "RT @RonaldoFCabuhat: If iHaveToSpendADay w/ MaiChard, i'll offer myself,listen. We'll talk adult matters,the fun stuffs! #ALDUBMaineEvent h…\n",
      "@MajoRamirezz haha it wasn't as fun as it sounds 😝\n",
      "Finally home from Atlantic City. Fun 2 day vacation but now it's back to the grind\n",
      "RT @JoeyGraceffa: GUYS! Make sure you're sending me a VIDEO question for the Snapchat Q&amp;A! Make them fun! 👻joeygraceffa16\n",
      "RT @BabyAnimalPics: fun date idea: we go to the animal shelter and adopt every dog\n",
      "RT @gamedestroyer66: Trigger Runners | Side Scrolling Fun: https://t.co/oRzTtmUGlo  #triggerrunners #indiegame #indiedev #GDTV\n",
      "Just taught a kid a lesson. You don't make fun of someone because they have less than you. Your shit can easily be taken from you.\n",
      "Brooklyn Nine-Nine S01E09 Fun #Brooklyn99  https://t.co/fVldkuaACa https://t.co/FbYKPplozK\n",
      "#Zootopia @shakira totally made this movie for me! So much fun. #TryEverything https://t.co/lccWdTAjEi via @YouTube\n",
      "RT @TNutritionista: Had so much fun presenting #guthealth recipes @eatrightnc! Thanks to everyone who attended! #savortheflavor #nnm https:…\n",
      "I liked a @YouTube video from @finfunmermaid https://t.co/42z003OCkb Help Fin Fun Get 40,000 Subscriber Tail giveaway!\n",
      "RT @_AkbarXavier: Show up and have fun courtesy of @blvdetiquettes https://t.co/B7GBY93u5d\n",
      "RT @Peugeot_Hansen: Friday Fun Day - with @SebastienLoeb and @Timmy_Hansen doing what they love. #FastFriday #Peugeot208WRX @FIAWorldRX htt…\n",
      "Via: https://t.co/t8aXirIzWu\n",
      "Young Americans have fun in a boutique https://t.co/qTkcrouUqo\n",
      "@JasonCashe @PerryWallace4CW @CyRiddle @4CWeFed I hope it's make fun of Perry night\n",
      "RT @_FlaDaDepressao: @vascodagama @sportrecife Uma vez inseto, sempre inseto. SEMPRE vão viver em função do Flamengo. Os 2 clubes mais inse…\n",
      "#justona #goodvibes #goodtimes #snooker #chilling #playhard #friends #fun #live #goodfriends… https://t.co/zvyj1FwosA\n",
      "RT @natekgarner: Unhappiness isnt forever\n",
      "Being made fun of isnt forever\n",
      "Not fitting in isnt forever\n",
      "Suicide is...\n",
      "It's not the answer &amp; im…\n",
      "😂 😂 😂 😂 😂 😂.   https://t.co/K0wTqalsot\n",
      "RT @ellieweber_: Too much fun @ Roseburg High School https://t.co/oPgPq9wpO0\n",
      "The Week in iOS Apps: Assassin's Creed Identity, Clash Royale, and other new games: Fun and gamesIt’s the dog ... https://t.co/O6EVuszYQJ\n",
      "\"Make it simple. Make it memorable. Make it inviting to look at. Makenit fun to dead.\" -Leo Burnett\n",
      "The Week in iOS Apps: Assassin's Creed Identity, Clash Royale, and other new games: Fun and gamesIt’s the dog ... https://t.co/2wieqlcsYC\n",
      "The Week in iOS Apps: Assassin's Creed Identity, Clash Royale, and other new games: Fun and games... https://t.co/2VCOUFzTm8 #Tech #Apple\n",
      "RT @xrzes: Being a vegetarian so fun I just got three bags of broccoli https://t.co/u5XbYNjste\n",
      "RT @miller12_ry: NO LONGER TALKING. EVERYTHING I SAY GETS TAKEN THE WRONG WAY OR GETS MADE FUN OF.\n",
      "Friends,\n",
      "Grab your sweetie and join the Chorale Acadienne singers for a fun evening of entertainment and food... https://t.co/tktKP2o2z4\n"
     ]
    }
   ],
   "source": [
    "for i, tweepy in enumerate(tweets_data):\n",
    "    \n",
    "    print tweepy['text']\n",
    "    \n",
    "    if i == 100:\n",
    "        break"
   ]
  },
  {
   "cell_type": "code",
   "execution_count": 28,
   "metadata": {
    "collapsed": false
   },
   "outputs": [],
   "source": [
    "z =  u'\\U0001f49b'"
   ]
  },
  {
   "cell_type": "code",
   "execution_count": 56,
   "metadata": {
    "collapsed": false
   },
   "outputs": [
    {
     "name": "stdout",
     "output_type": "stream",
     "text": [
      "I've enjoyed this basketball season though....the journey was sooo fun and exciting while it lasted....😊😊💜💛\n"
     ]
    }
   ],
   "source": [
    "print xx"
   ]
  },
  {
   "cell_type": "code",
   "execution_count": 38,
   "metadata": {
    "collapsed": false
   },
   "outputs": [],
   "source": [
    "zz = tweets_data[0]"
   ]
  },
  {
   "cell_type": "code",
   "execution_count": 40,
   "metadata": {
    "collapsed": false
   },
   "outputs": [
    {
     "data": {
      "text/plain": [
       "u'en'"
      ]
     },
     "execution_count": 40,
     "metadata": {},
     "output_type": "execute_result"
    }
   ],
   "source": [
    "zz['lang']"
   ]
  },
  {
   "cell_type": "code",
   "execution_count": 61,
   "metadata": {
    "collapsed": false
   },
   "outputs": [
    {
     "data": {
      "text/plain": [
       "u'\\U0001f3fb'"
      ]
     },
     "execution_count": 61,
     "metadata": {},
     "output_type": "execute_result"
    }
   ],
   "source": [
    "z"
   ]
  },
  {
   "cell_type": "code",
   "execution_count": 132,
   "metadata": {
    "collapsed": false
   },
   "outputs": [
    {
     "data": {
      "text/plain": [
       "u\"I've enjoyed this basketball season though....the journey was sooo fun and exciting while it lasted....\\U0001f60a\\U0001f60a\\U0001f49c\\U0001f49b\""
      ]
     },
     "execution_count": 132,
     "metadata": {},
     "output_type": "execute_result"
    }
   ],
   "source": [
    "xx"
   ]
  },
  {
   "cell_type": "code",
   "execution_count": 90,
   "metadata": {
    "collapsed": true
   },
   "outputs": [],
   "source": [
    "diversity_df = pd.read_csv('data/diversity_table.txt', encoding='utf-8', index_col=0)\n",
    "diversity_df['count'] = 0\n"
   ]
  },
  {
   "cell_type": "code",
   "execution_count": 91,
   "metadata": {
    "collapsed": false
   },
   "outputs": [],
   "source": [
    "dd =diversity_df.to_dict()['count'].keys()"
   ]
  },
  {
   "cell_type": "code",
   "execution_count": 92,
   "metadata": {
    "collapsed": false
   },
   "outputs": [
    {
     "data": {
      "text/plain": [
       "u'\\U0001f483'"
      ]
     },
     "execution_count": 92,
     "metadata": {},
     "output_type": "execute_result"
    }
   ],
   "source": [
    "list(dd)[0]"
   ]
  },
  {
   "cell_type": "code",
   "execution_count": 89,
   "metadata": {
    "collapsed": false
   },
   "outputs": [
    {
     "data": {
      "text/plain": [
       "384"
      ]
     },
     "execution_count": 89,
     "metadata": {},
     "output_type": "execute_result"
    }
   ],
   "source": [
    "len(dd)"
   ]
  },
  {
   "cell_type": "code",
   "execution_count": 2,
   "metadata": {
    "collapsed": false
   },
   "outputs": [],
   "source": [
    "from bs4 import UnicodeDammit\n",
    "import re"
   ]
  },
  {
   "cell_type": "code",
   "execution_count": 121,
   "metadata": {
    "collapsed": false
   },
   "outputs": [
    {
     "data": {
      "text/plain": [
       "<module 're' from '/home/han/anaconda2/lib/python2.7/re.pyc'>"
      ]
     },
     "execution_count": 121,
     "metadata": {},
     "output_type": "execute_result"
    }
   ],
   "source": [
    "re"
   ]
  },
  {
   "cell_type": "code",
   "execution_count": 134,
   "metadata": {
    "collapsed": false
   },
   "outputs": [
    {
     "data": {
      "text/plain": [
       "[u'\\U0001f60a', u'\\U0001f60a', u'\\U0001f49c', u'\\U0001f49b']"
      ]
     },
     "execution_count": 134,
     "metadata": {},
     "output_type": "execute_result"
    }
   ],
   "source": [
    "re.findall(u'[\\U0001f000-\\U0001f999]', xx)"
   ]
  },
  {
   "cell_type": "code",
   "execution_count": 126,
   "metadata": {
    "collapsed": false,
    "scrolled": true
   },
   "outputs": [
    {
     "data": {
      "text/plain": [
       "[u'\\U0001f60a', u'\\U0001f60a']"
      ]
     },
     "execution_count": 126,
     "metadata": {},
     "output_type": "execute_result"
    }
   ],
   "source": [
    "emoji"
   ]
  },
  {
   "cell_type": "code",
   "execution_count": 146,
   "metadata": {
    "collapsed": false
   },
   "outputs": [
    {
     "name": "stdout",
     "output_type": "stream",
     "text": [
      "😊 here\n",
      "💛 here\n",
      "💜 here\n"
     ]
    }
   ],
   "source": [
    "for key in emoji_dict.keys():\n",
    "    if key in xx:\n",
    "        print key, 'here'"
   ]
  },
  {
   "cell_type": "code",
   "execution_count": 50,
   "metadata": {
    "collapsed": true
   },
   "outputs": [],
   "source": [
    "import nltk\n"
   ]
  },
  {
   "cell_type": "code",
   "execution_count": 56,
   "metadata": {
    "collapsed": false
   },
   "outputs": [],
   "source": [
    "corpus = \"\"\"<s> I am Sam </s>\n",
    "<s> Sam I am </s>\n",
    "<s> I do not like green eggs and ham </s>\"\"\"\n"
   ]
  },
  {
   "cell_type": "code",
   "execution_count": 86,
   "metadata": {
    "collapsed": false
   },
   "outputs": [],
   "source": [
    "zz = nltk.FreqDist(nltk.trigrams(corpus.split()))"
   ]
  },
  {
   "cell_type": "code",
   "execution_count": 62,
   "metadata": {
    "collapsed": true
   },
   "outputs": [],
   "source": [
    "smoothed_zz = nltk.KneserNeyProbDist(zz)"
   ]
  },
  {
   "cell_type": "code",
   "execution_count": 81,
   "metadata": {
    "collapsed": false
   },
   "outputs": [
    {
     "data": {
      "text/plain": [
       "0.25"
      ]
     },
     "execution_count": 81,
     "metadata": {},
     "output_type": "execute_result"
    }
   ],
   "source": [
    "smoothed_zz.prob(('Sam', 'I', 'am'))"
   ]
  },
  {
   "cell_type": "code",
   "execution_count": 90,
   "metadata": {
    "collapsed": false
   },
   "outputs": [
    {
     "data": {
      "text/plain": [
       "[(u'do', u'not', u'like'),\n",
       " (u'am', u'</s>', u'<s>'),\n",
       " (u'am', u'Sam', u'</s>'),\n",
       " (u'like', u'green', u'eggs'),\n",
       " (u'eggs', u'and', u'ham'),\n",
       " (u'<s>', u'Sam', u'I'),\n",
       " (u'I', u'am', u'Sam'),\n",
       " (u'Sam', u'I', u'am'),\n",
       " (u'not', u'like', u'green'),\n",
       " (u'I', u'am', u'</s>'),\n",
       " (u'green', u'eggs', u'and'),\n",
       " (u'</s>', u'<s>', u'I'),\n",
       " (u'I', u'do', u'not'),\n",
       " (u'<s>', u'I', u'am'),\n",
       " (u'<s>', u'I', u'do'),\n",
       " (u'Sam', u'</s>', u'<s>'),\n",
       " (u'and', u'ham', u'</s>'),\n",
       " (u'</s>', u'<s>', u'Sam')]"
      ]
     },
     "execution_count": 90,
     "metadata": {},
     "output_type": "execute_result"
    }
   ],
   "source": [
    "smoothed_zz.samples()"
   ]
  },
  {
   "cell_type": "markdown",
   "metadata": {
    "collapsed": true
   },
   "source": [
    "# Tweet Parsing\n"
   ]
  },
  {
   "cell_type": "code",
   "execution_count": 237,
   "metadata": {
    "collapsed": true
   },
   "outputs": [],
   "source": [
    "from pyspark import SparkContext\n",
    "import json\n",
    "import nltk\n",
    "import re\n",
    "from collections import Counter, defaultdict\n",
    "from nltk.stem.snowball import SnowballStemmer\n",
    "from nltk.stem.wordnet import WordNetLemmatizer\n"
   ]
  },
  {
   "cell_type": "code",
   "execution_count": 238,
   "metadata": {
    "collapsed": false
   },
   "outputs": [
    {
     "ename": "ValueError",
     "evalue": "Cannot run multiple SparkContexts at once; existing SparkContext(app=pyspark-shell, master=local[*]) created by __init__ at <ipython-input-7-4443dd5159b0>:1 ",
     "output_type": "error",
     "traceback": [
      "\u001b[1;31m---------------------------------------------------------------------------\u001b[0m",
      "\u001b[1;31mValueError\u001b[0m                                Traceback (most recent call last)",
      "\u001b[1;32m<ipython-input-238-4443dd5159b0>\u001b[0m in \u001b[0;36m<module>\u001b[1;34m()\u001b[0m\n\u001b[1;32m----> 1\u001b[1;33m \u001b[0msc\u001b[0m \u001b[1;33m=\u001b[0m \u001b[0mSparkContext\u001b[0m\u001b[1;33m(\u001b[0m\u001b[1;33m)\u001b[0m\u001b[1;33m\u001b[0m\u001b[0m\n\u001b[0m",
      "\u001b[1;32m/usr/local/spark/python/pyspark/context.pyc\u001b[0m in \u001b[0;36m__init__\u001b[1;34m(self, master, appName, sparkHome, pyFiles, environment, batchSize, serializer, conf, gateway, jsc, profiler_cls)\u001b[0m\n\u001b[0;32m    110\u001b[0m         \"\"\"\n\u001b[0;32m    111\u001b[0m         \u001b[0mself\u001b[0m\u001b[1;33m.\u001b[0m\u001b[0m_callsite\u001b[0m \u001b[1;33m=\u001b[0m \u001b[0mfirst_spark_call\u001b[0m\u001b[1;33m(\u001b[0m\u001b[1;33m)\u001b[0m \u001b[1;32mor\u001b[0m \u001b[0mCallSite\u001b[0m\u001b[1;33m(\u001b[0m\u001b[0mNone\u001b[0m\u001b[1;33m,\u001b[0m \u001b[0mNone\u001b[0m\u001b[1;33m,\u001b[0m \u001b[0mNone\u001b[0m\u001b[1;33m)\u001b[0m\u001b[1;33m\u001b[0m\u001b[0m\n\u001b[1;32m--> 112\u001b[1;33m         \u001b[0mSparkContext\u001b[0m\u001b[1;33m.\u001b[0m\u001b[0m_ensure_initialized\u001b[0m\u001b[1;33m(\u001b[0m\u001b[0mself\u001b[0m\u001b[1;33m,\u001b[0m \u001b[0mgateway\u001b[0m\u001b[1;33m=\u001b[0m\u001b[0mgateway\u001b[0m\u001b[1;33m)\u001b[0m\u001b[1;33m\u001b[0m\u001b[0m\n\u001b[0m\u001b[0;32m    113\u001b[0m         \u001b[1;32mtry\u001b[0m\u001b[1;33m:\u001b[0m\u001b[1;33m\u001b[0m\u001b[0m\n\u001b[0;32m    114\u001b[0m             self._do_init(master, appName, sparkHome, pyFiles, environment, batchSize, serializer,\n",
      "\u001b[1;32m/usr/local/spark/python/pyspark/context.pyc\u001b[0m in \u001b[0;36m_ensure_initialized\u001b[1;34m(cls, instance, gateway)\u001b[0m\n\u001b[0;32m    259\u001b[0m                         \u001b[1;34m\" created by %s at %s:%s \"\u001b[0m\u001b[1;33m\u001b[0m\u001b[0m\n\u001b[0;32m    260\u001b[0m                         % (currentAppName, currentMaster,\n\u001b[1;32m--> 261\u001b[1;33m                             callsite.function, callsite.file, callsite.linenum))\n\u001b[0m\u001b[0;32m    262\u001b[0m                 \u001b[1;32melse\u001b[0m\u001b[1;33m:\u001b[0m\u001b[1;33m\u001b[0m\u001b[0m\n\u001b[0;32m    263\u001b[0m                     \u001b[0mSparkContext\u001b[0m\u001b[1;33m.\u001b[0m\u001b[0m_active_spark_context\u001b[0m \u001b[1;33m=\u001b[0m \u001b[0minstance\u001b[0m\u001b[1;33m\u001b[0m\u001b[0m\n",
      "\u001b[1;31mValueError\u001b[0m: Cannot run multiple SparkContexts at once; existing SparkContext(app=pyspark-shell, master=local[*]) created by __init__ at <ipython-input-7-4443dd5159b0>:1 "
     ]
    }
   ],
   "source": [
    "sc = SparkContext()"
   ]
  },
  {
   "cell_type": "code",
   "execution_count": 196,
   "metadata": {
    "collapsed": true
   },
   "outputs": [],
   "source": [
    "snowball = SnowballStemmer('english')\n",
    "wordnet = WordNetLemmatizer()\n"
   ]
  },
  {
   "cell_type": "code",
   "execution_count": 176,
   "metadata": {
    "collapsed": true
   },
   "outputs": [],
   "source": [
    "REGEX = u\"[\\U00002712\\U00002714\\U00002716\\U0000271d\\U00002721\\U00002728\\U00002733\\U00002734\\U00002744\\U00002747\\U0000274c\\U0000274e\\U00002753-\\U00002755\\U00002757\\U00002763\\U00002764\\U00002795-\\U00002797\\U000027a1\\U000027b0\\U000027bf\\U00002934\\U00002935\\U00002b05-\\U00002b07\\U00002b1b\\U00002b1c\\U00002b50\\U00002b55\\U00003030\\U0000303d\\U0001f004\\U0001f0cf\\U0001f170\\U0001f171\\U0001f17e\\U0001f17f\\U0001f18e\\U0001f191-\\U0001f19a\\U0001f201\\U0001f202\\U0001f21a\\U0001f22f\\U0001f232-\\U0001f23a\\U0001f250\\U0001f251\\U0001f300-\\U0001f321\\U0001f324-\\U0001f393\\U0001f396\\U0001f397\\U0001f399-\\U0001f39b\\U0001f39e-\\U0001f3f0\\U0001f3f3-\\U0001f3f5\\U0001f3f7-\\U0001f4fd\\U0001f4ff-\\U0001f53d\\U0001f549-\\U0001f54e\\U0001f550-\\U0001f567\\U0001f56f\\U0001f570\\U0001f573-\\U0001f579\\U0001f587\\U0001f58a-\\U0001f58d\\U0001f590\\U0001f595\\U0001f596\\U0001f5a5\\U0001f5a8\\U0001f5b1\\U0001f5b2\\U0001f5bc\\U0001f5c2-\\U0001f5c4\\U0001f5d1-\\U0001f5d3\\U0001f5dc-\\U0001f5de\\U0001f5e1\\U0001f5e3\\U0001f5ef\\U0001f5f3\\U0001f5fa-\\U0001f64f\\U0001f680-\\U0001f6c5\\U0001f6cb-\\U0001f6d0\\U0001f6e0-\\U0001f6e5\\U0001f6e9\\U0001f6eb\\U0001f6ec\\U0001f6f0\\U0001f6f3\\U0001f910-\\U0001f918\\U0001f980-\\U0001f984\\U0001f9c0\\U00003297\\U00003299\\U000000a9\\U000000ae\\U0000203c\\U00002049\\U00002122\\U00002139\\U00002194-\\U00002199\\U000021a9\\U000021aa\\U0000231a\\U0000231b\\U00002328\\U00002388\\U000023cf\\U000023e9-\\U000023f3\\U000023f8-\\U000023fa\\U000024c2\\U000025aa\\U000025ab\\U000025b6\\U000025c0\\U000025fb-\\U000025fe\\U00002600-\\U00002604\\U0000260e\\U00002611\\U00002614\\U00002615\\U00002618\\U0000261d\\U00002620\\U00002622\\U00002623\\U00002626\\U0000262a\\U0000262e\\U0000262f\\U00002638-\\U0000263a\\U00002648-\\U00002653\\U00002660\\U00002663\\U00002665\\U00002666\\U00002668\\U0000267b\\U0000267f\\U00002692-\\U00002694\\U00002696\\U00002697\\U00002699\\U0000269b\\U0000269c\\U000026a0\\U000026a1\\U000026aa\\U000026ab\\U000026b0\\U000026b1\\U000026bd\\U000026be\\U000026c4\\U000026c5\\U000026c8\\U000026ce\\U000026cf\\U000026d1\\U000026d3\\U000026d4\\U000026e9\\U000026ea\\U000026f0-\\U000026f5\\U000026f7-\\U000026fa\\U000026fd\\U00002702\\U00002705\\U00002708-\\U0000270d\\U0000270f]|[#]\\U000020e3|[*]\\U000020e3|[0]\\U000020e3|[1]\\U000020e3|[2]\\U000020e3|[3]\\U000020e3|[4]\\U000020e3|[5]\\U000020e3|[6]\\U000020e3|[7]\\U000020e3|[8]\\U000020e3|[9]\\U000020e3|\\U0001f1e6[\\U0001f1e8-\\U0001f1ec\\U0001f1ee\\U0001f1f1\\U0001f1f2\\U0001f1f4\\U0001f1f6-\\U0001f1fa\\U0001f1fc\\U0001f1fd\\U0001f1ff]|\\U0001f1e7[\\U0001f1e6\\U0001f1e7\\U0001f1e9-\\U0001f1ef\\U0001f1f1-\\U0001f1f4\\U0001f1f6-\\U0001f1f9\\U0001f1fb\\U0001f1fc\\U0001f1fe\\U0001f1ff]|\\U0001f1e8[\\U0001f1e6\\U0001f1e8\\U0001f1e9\\U0001f1eb-\\U0001f1ee\\U0001f1f0-\\U0001f1f5\\U0001f1f7\\U0001f1fa-\\U0001f1ff]|\\U0001f1e9[\\U0001f1ea\\U0001f1ec\\U0001f1ef\\U0001f1f0\\U0001f1f2\\U0001f1f4\\U0001f1ff]|\\U0001f1ea[\\U0001f1e6\\U0001f1e8\\U0001f1ea\\U0001f1ec\\U0001f1ed\\U0001f1f7-\\U0001f1fa]|\\U0001f1eb[\\U0001f1ee-\\U0001f1f0\\U0001f1f2\\U0001f1f4\\U0001f1f7]|\\U0001f1ec[\\U0001f1e6\\U0001f1e7\\U0001f1e9-\\U0001f1ee\\U0001f1f1-\\U0001f1f3\\U0001f1f5-\\U0001f1fa\\U0001f1fc\\U0001f1fe]|\\U0001f1ed[\\U0001f1f0\\U0001f1f2\\U0001f1f3\\U0001f1f7\\U0001f1f9\\U0001f1fa]|\\U0001f1ee[\\U0001f1e8-\\U0001f1ea\\U0001f1f1-\\U0001f1f4\\U0001f1f6-\\U0001f1f9]|\\U0001f1ef[\\U0001f1ea\\U0001f1f2\\U0001f1f4\\U0001f1f5]|\\U0001f1f0[\\U0001f1ea\\U0001f1ec-\\U0001f1ee\\U0001f1f2\\U0001f1f3\\U0001f1f5\\U0001f1f7\\U0001f1fc\\U0001f1fe\\U0001f1ff]|\\U0001f1f1[\\U0001f1e6-\\U0001f1e8\\U0001f1ee\\U0001f1f0\\U0001f1f7-\\U0001f1fb\\U0001f1fe]|\\U0001f1f2[\\U0001f1e6\\U0001f1e8-\\U0001f1ed\\U0001f1f0-\\U0001f1ff]|\\U0001f1f3[\\U0001f1e6\\U0001f1e8\\U0001f1ea-\\U0001f1ec\\U0001f1ee\\U0001f1f1\\U0001f1f4\\U0001f1f5\\U0001f1f7\\U0001f1fa\\U0001f1ff]|\\U0001f1f4\\U0001f1f2|\\U0001f1f5[\\U0001f1e6\\U0001f1ea-\\U0001f1ed\\U0001f1f0-\\U0001f1f3\\U0001f1f7-\\U0001f1f9\\U0001f1fc\\U0001f1fe]|\\U0001f1f6\\U0001f1e6|\\U0001f1f7[\\U0001f1ea\\U0001f1f4\\U0001f1f8\\U0001f1fa\\U0001f1fc]|\\U0001f1f8[\\U0001f1e6-\\U0001f1ea\\U0001f1ec-\\U0001f1f4\\U0001f1f7-\\U0001f1f9\\U0001f1fb\\U0001f1fd-\\U0001f1ff]|\\U0001f1f9[\\U0001f1e6\\U0001f1e8\\U0001f1e9\\U0001f1eb-\\U0001f1ed\\U0001f1ef-\\U0001f1f4\\U0001f1f7\\U0001f1f9\\U0001f1fb\\U0001f1fc\\U0001f1ff]|\\U0001f1fa[\\U0001f1e6\\U0001f1ec\\U0001f1f2\\U0001f1f8\\U0001f1fe\\U0001f1ff]|\\U0001f1fb[\\U0001f1e6\\U0001f1e8\\U0001f1ea\\U0001f1ec\\U0001f1ee\\U0001f1f3\\U0001f1fa]|\\U0001f1fc[\\U0001f1eb\\U0001f1f8]|\\U0001f1fd\\U0001f1f0|\\U0001f1fe[\\U0001f1ea\\U0001f1f9]|\\U0001f1ff[\\U0001f1e6\\U0001f1f2\\U0001f1fc]|[0-9*#]\\ufe0f\\u20e3\"\n"
   ]
  },
  {
   "cell_type": "code",
   "execution_count": 9,
   "metadata": {
    "collapsed": false
   },
   "outputs": [],
   "source": [
    "def tweet_process(tweet):\n",
    "    KEY = 'text'\n",
    "    try:\n",
    "        tw = json.loads(tweet.strip())\n",
    "        if KEY not in tw or tw['lang']!= 'en':\n",
    "            return None\n",
    "        return tw\n",
    "\n",
    "    except Exception as e:\n",
    "        return None"
   ]
  },
  {
   "cell_type": "code",
   "execution_count": 197,
   "metadata": {
    "collapsed": true
   },
   "outputs": [],
   "source": [
    "\n",
    "def emoji_preprocess(tweet):\n",
    "    # add space before and after space\n",
    "    for emoji in re.findall(REGEX, tweet):\n",
    "        tweet = tweet.replace(emoji, ' ' + emoji + ' ')\n",
    "\n",
    "    # tokenize and remove rt and @ and https://\n",
    "    tweet = re.sub('\\?', '', tweet)\n",
    "    tweet = re.sub('\\.', '', tweet)\n",
    "    tweet = re.sub(',', '', tweet)\n",
    "    tweet = re.sub('!', '', tweet)\n",
    "\n",
    "    tweet_tmp = [ snowball.stem(wd) for wd in tweet.strip('rt').split() if not wd.startswith('@') and not wd.startswith('http') and not wd.startswith('#') ]\n",
    "    \n",
    "    tweet_token = ['<s>'] + tweet_tmp + ['</s>']\n",
    "\n",
    "    return tweet_token\n"
   ]
  },
  {
   "cell_type": "code",
   "execution_count": 120,
   "metadata": {
    "collapsed": true
   },
   "outputs": [],
   "source": [
    "def bigrams(tweet):\n",
    "    return [ ((w1,), w2) for w1, w2 in nltk.bigrams(tweet)]"
   ]
  },
  {
   "cell_type": "code",
   "execution_count": 9,
   "metadata": {
    "collapsed": true
   },
   "outputs": [],
   "source": [
    "def bigram_dict((((w1, w2), w_f), cnt)): \n",
    "    global bigram_dict\n",
    "    bigram_dict[(w1,w2)][w_f] = cnt\n",
    "    return 'cool'"
   ]
  },
  {
   "cell_type": "code",
   "execution_count": 97,
   "metadata": {
    "collapsed": true
   },
   "outputs": [],
   "source": [
    "def trigrams(tweet):\n",
    "    # generate trigrams from tweets\n",
    "    return [((w1, w2), w3) for w1, w2, w3 in nltk.trigrams(tweet)]\n"
   ]
  },
  {
   "cell_type": "code",
   "execution_count": 14,
   "metadata": {
    "collapsed": false
   },
   "outputs": [],
   "source": [
    "def quadgrams(tweet):\n",
    "    #generate n grams\n",
    "    return [((w1, w2, w3), w4) for w1, w2, w3, w4 in nltk.ngrams(tweet, 4)]\n"
   ]
  },
  {
   "cell_type": "code",
   "execution_count": 236,
   "metadata": {
    "collapsed": false
   },
   "outputs": [
    {
     "name": "stderr",
     "output_type": "stream",
     "text": [
      "ERROR:py4j.java_gateway:An error occurred while trying to connect to the Java server (127.0.0.1:42310)\n",
      "Traceback (most recent call last):\n",
      "  File \"/home/han/anaconda2/lib/python2.7/site-packages/py4j/java_gateway.py\", line 712, in start\n",
      "    self.socket.connect((self.address, self.port))\n",
      "  File \"/home/han/anaconda2/lib/python2.7/socket.py\", line 228, in meth\n",
      "    return getattr(self._sock,name)(*args)\n",
      "error: [Errno 111] Connection refused\n"
     ]
    },
    {
     "ename": "Py4JNetworkError",
     "evalue": "An error occurred while trying to connect to the Java server (127.0.0.1:42310)",
     "output_type": "error",
     "traceback": [
      "\u001b[1;31m---------------------------------------------------------------------------\u001b[0m",
      "\u001b[1;31mPy4JNetworkError\u001b[0m                          Traceback (most recent call last)",
      "\u001b[1;32m<ipython-input-236-12b79ddbda05>\u001b[0m in \u001b[0;36m<module>\u001b[1;34m()\u001b[0m\n\u001b[1;32m----> 1\u001b[1;33m \u001b[0mtweets\u001b[0m \u001b[1;33m=\u001b[0m  \u001b[0msc\u001b[0m\u001b[1;33m.\u001b[0m\u001b[0mtextFile\u001b[0m\u001b[1;33m(\u001b[0m\u001b[1;34m'data/twitter_dump_small.txt'\u001b[0m\u001b[1;33m)\u001b[0m\u001b[1;33m.\u001b[0m\u001b[0mfilter\u001b[0m\u001b[1;33m(\u001b[0m\u001b[1;32mlambda\u001b[0m \u001b[0mtw\u001b[0m\u001b[1;33m:\u001b[0m \u001b[0mlen\u001b[0m\u001b[1;33m(\u001b[0m\u001b[0mtw\u001b[0m\u001b[1;33m)\u001b[0m\u001b[1;33m>\u001b[0m\u001b[1;36m1\u001b[0m\u001b[1;33m)\u001b[0m\u001b[1;33m.\u001b[0m\u001b[0mfilter\u001b[0m\u001b[1;33m(\u001b[0m\u001b[1;32mlambda\u001b[0m \u001b[0mtw\u001b[0m\u001b[1;33m:\u001b[0m \u001b[1;34m'created_at'\u001b[0m \u001b[1;32min\u001b[0m \u001b[0mtw\u001b[0m\u001b[1;33m)\u001b[0m\u001b[1;33m.\u001b[0m\u001b[0mmap\u001b[0m\u001b[1;33m(\u001b[0m\u001b[0mtweet_process\u001b[0m\u001b[1;33m)\u001b[0m\u001b[1;33m.\u001b[0m\u001b[0mfilter\u001b[0m\u001b[1;33m(\u001b[0m\u001b[1;32mlambda\u001b[0m \u001b[0mtw\u001b[0m\u001b[1;33m:\u001b[0m \u001b[0mtw\u001b[0m \u001b[1;33m!=\u001b[0m \u001b[0mNone\u001b[0m\u001b[1;33m)\u001b[0m\u001b[1;33m.\u001b[0m\u001b[0mmap\u001b[0m\u001b[1;33m(\u001b[0m\u001b[1;32mlambda\u001b[0m \u001b[0mtw\u001b[0m\u001b[1;33m:\u001b[0m \u001b[0mtw\u001b[0m\u001b[1;33m[\u001b[0m\u001b[1;34m'text'\u001b[0m\u001b[1;33m]\u001b[0m\u001b[1;33m.\u001b[0m\u001b[0mlower\u001b[0m\u001b[1;33m(\u001b[0m\u001b[1;33m)\u001b[0m \u001b[1;33m)\u001b[0m\u001b[1;33m\u001b[0m\u001b[0m\n\u001b[0m",
      "\u001b[1;32m/usr/local/spark/python/pyspark/context.pyc\u001b[0m in \u001b[0;36mtextFile\u001b[1;34m(self, name, minPartitions, use_unicode)\u001b[0m\n\u001b[0;32m    471\u001b[0m         \u001b[1;33m[\u001b[0m\u001b[1;34mu'Hello world!'\u001b[0m\u001b[1;33m]\u001b[0m\u001b[1;33m\u001b[0m\u001b[0m\n\u001b[0;32m    472\u001b[0m         \"\"\"\n\u001b[1;32m--> 473\u001b[1;33m         \u001b[0mminPartitions\u001b[0m \u001b[1;33m=\u001b[0m \u001b[0mminPartitions\u001b[0m \u001b[1;32mor\u001b[0m \u001b[0mmin\u001b[0m\u001b[1;33m(\u001b[0m\u001b[0mself\u001b[0m\u001b[1;33m.\u001b[0m\u001b[0mdefaultParallelism\u001b[0m\u001b[1;33m,\u001b[0m \u001b[1;36m2\u001b[0m\u001b[1;33m)\u001b[0m\u001b[1;33m\u001b[0m\u001b[0m\n\u001b[0m\u001b[0;32m    474\u001b[0m         return RDD(self._jsc.textFile(name, minPartitions), self,\n\u001b[0;32m    475\u001b[0m                    UTF8Deserializer(use_unicode))\n",
      "\u001b[1;32m/usr/local/spark/python/pyspark/context.pyc\u001b[0m in \u001b[0;36mdefaultParallelism\u001b[1;34m(self)\u001b[0m\n\u001b[0;32m    346\u001b[0m         reduce tasks)\n\u001b[0;32m    347\u001b[0m         \"\"\"\n\u001b[1;32m--> 348\u001b[1;33m         \u001b[1;32mreturn\u001b[0m \u001b[0mself\u001b[0m\u001b[1;33m.\u001b[0m\u001b[0m_jsc\u001b[0m\u001b[1;33m.\u001b[0m\u001b[0msc\u001b[0m\u001b[1;33m(\u001b[0m\u001b[1;33m)\u001b[0m\u001b[1;33m.\u001b[0m\u001b[0mdefaultParallelism\u001b[0m\u001b[1;33m(\u001b[0m\u001b[1;33m)\u001b[0m\u001b[1;33m\u001b[0m\u001b[0m\n\u001b[0m\u001b[0;32m    349\u001b[0m \u001b[1;33m\u001b[0m\u001b[0m\n\u001b[0;32m    350\u001b[0m     \u001b[1;33m@\u001b[0m\u001b[0mproperty\u001b[0m\u001b[1;33m\u001b[0m\u001b[0m\n",
      "\u001b[1;32m/home/han/anaconda2/lib/python2.7/site-packages/py4j/java_gateway.pyc\u001b[0m in \u001b[0;36m__call__\u001b[1;34m(self, *args)\u001b[0m\n\u001b[0;32m    831\u001b[0m             \u001b[0mproto\u001b[0m\u001b[1;33m.\u001b[0m\u001b[0mEND_COMMAND_PART\u001b[0m\u001b[1;33m\u001b[0m\u001b[0m\n\u001b[0;32m    832\u001b[0m \u001b[1;33m\u001b[0m\u001b[0m\n\u001b[1;32m--> 833\u001b[1;33m         \u001b[0manswer\u001b[0m \u001b[1;33m=\u001b[0m \u001b[0mself\u001b[0m\u001b[1;33m.\u001b[0m\u001b[0mgateway_client\u001b[0m\u001b[1;33m.\u001b[0m\u001b[0msend_command\u001b[0m\u001b[1;33m(\u001b[0m\u001b[0mcommand\u001b[0m\u001b[1;33m)\u001b[0m\u001b[1;33m\u001b[0m\u001b[0m\n\u001b[0m\u001b[0;32m    834\u001b[0m         return_value = get_return_value(\n\u001b[0;32m    835\u001b[0m             answer, self.gateway_client, self.target_id, self.name)\n",
      "\u001b[1;32m/home/han/anaconda2/lib/python2.7/site-packages/py4j/java_gateway.pyc\u001b[0m in \u001b[0;36msend_command\u001b[1;34m(self, command, retry)\u001b[0m\n\u001b[0;32m    644\u001b[0m          \u001b[0mthe\u001b[0m \u001b[0mPy4J\u001b[0m \u001b[0mprotocol\u001b[0m\u001b[1;33m.\u001b[0m\u001b[1;33m\u001b[0m\u001b[0m\n\u001b[0;32m    645\u001b[0m         \"\"\"\n\u001b[1;32m--> 646\u001b[1;33m         \u001b[0mconnection\u001b[0m \u001b[1;33m=\u001b[0m \u001b[0mself\u001b[0m\u001b[1;33m.\u001b[0m\u001b[0m_get_connection\u001b[0m\u001b[1;33m(\u001b[0m\u001b[1;33m)\u001b[0m\u001b[1;33m\u001b[0m\u001b[0m\n\u001b[0m\u001b[0;32m    647\u001b[0m         \u001b[1;32mtry\u001b[0m\u001b[1;33m:\u001b[0m\u001b[1;33m\u001b[0m\u001b[0m\n\u001b[0;32m    648\u001b[0m             \u001b[0mresponse\u001b[0m \u001b[1;33m=\u001b[0m \u001b[0mconnection\u001b[0m\u001b[1;33m.\u001b[0m\u001b[0msend_command\u001b[0m\u001b[1;33m(\u001b[0m\u001b[0mcommand\u001b[0m\u001b[1;33m)\u001b[0m\u001b[1;33m\u001b[0m\u001b[0m\n",
      "\u001b[1;32m/home/han/anaconda2/lib/python2.7/site-packages/py4j/java_gateway.pyc\u001b[0m in \u001b[0;36m_get_connection\u001b[1;34m(self)\u001b[0m\n\u001b[0;32m    599\u001b[0m             \u001b[0mconnection\u001b[0m \u001b[1;33m=\u001b[0m \u001b[0mself\u001b[0m\u001b[1;33m.\u001b[0m\u001b[0mdeque\u001b[0m\u001b[1;33m.\u001b[0m\u001b[0mpop\u001b[0m\u001b[1;33m(\u001b[0m\u001b[1;33m)\u001b[0m\u001b[1;33m\u001b[0m\u001b[0m\n\u001b[0;32m    600\u001b[0m         \u001b[1;32mexcept\u001b[0m \u001b[0mIndexError\u001b[0m\u001b[1;33m:\u001b[0m\u001b[1;33m\u001b[0m\u001b[0m\n\u001b[1;32m--> 601\u001b[1;33m             \u001b[0mconnection\u001b[0m \u001b[1;33m=\u001b[0m \u001b[0mself\u001b[0m\u001b[1;33m.\u001b[0m\u001b[0m_create_connection\u001b[0m\u001b[1;33m(\u001b[0m\u001b[1;33m)\u001b[0m\u001b[1;33m\u001b[0m\u001b[0m\n\u001b[0m\u001b[0;32m    602\u001b[0m         \u001b[1;32mreturn\u001b[0m \u001b[0mconnection\u001b[0m\u001b[1;33m\u001b[0m\u001b[0m\n\u001b[0;32m    603\u001b[0m \u001b[1;33m\u001b[0m\u001b[0m\n",
      "\u001b[1;32m/home/han/anaconda2/lib/python2.7/site-packages/py4j/java_gateway.pyc\u001b[0m in \u001b[0;36m_create_connection\u001b[1;34m(self)\u001b[0m\n\u001b[0;32m    605\u001b[0m         connection = GatewayConnection(\n\u001b[0;32m    606\u001b[0m             self.address, self.port, self.auto_close, self.gateway_property)\n\u001b[1;32m--> 607\u001b[1;33m         \u001b[0mconnection\u001b[0m\u001b[1;33m.\u001b[0m\u001b[0mstart\u001b[0m\u001b[1;33m(\u001b[0m\u001b[1;33m)\u001b[0m\u001b[1;33m\u001b[0m\u001b[0m\n\u001b[0m\u001b[0;32m    608\u001b[0m         \u001b[1;32mreturn\u001b[0m \u001b[0mconnection\u001b[0m\u001b[1;33m\u001b[0m\u001b[0m\n\u001b[0;32m    609\u001b[0m \u001b[1;33m\u001b[0m\u001b[0m\n",
      "\u001b[1;32m/home/han/anaconda2/lib/python2.7/site-packages/py4j/java_gateway.pyc\u001b[0m in \u001b[0;36mstart\u001b[1;34m(self)\u001b[0m\n\u001b[0;32m    717\u001b[0m                 \u001b[1;34m\"server ({0}:{1})\"\u001b[0m\u001b[1;33m.\u001b[0m\u001b[0mformat\u001b[0m\u001b[1;33m(\u001b[0m\u001b[0mself\u001b[0m\u001b[1;33m.\u001b[0m\u001b[0maddress\u001b[0m\u001b[1;33m,\u001b[0m \u001b[0mself\u001b[0m\u001b[1;33m.\u001b[0m\u001b[0mport\u001b[0m\u001b[1;33m)\u001b[0m\u001b[1;33m\u001b[0m\u001b[0m\n\u001b[0;32m    718\u001b[0m             \u001b[0mlogger\u001b[0m\u001b[1;33m.\u001b[0m\u001b[0mexception\u001b[0m\u001b[1;33m(\u001b[0m\u001b[0mmsg\u001b[0m\u001b[1;33m)\u001b[0m\u001b[1;33m\u001b[0m\u001b[0m\n\u001b[1;32m--> 719\u001b[1;33m             \u001b[1;32mraise\u001b[0m \u001b[0mPy4JNetworkError\u001b[0m\u001b[1;33m(\u001b[0m\u001b[0mmsg\u001b[0m\u001b[1;33m,\u001b[0m \u001b[0me\u001b[0m\u001b[1;33m)\u001b[0m\u001b[1;33m\u001b[0m\u001b[0m\n\u001b[0m\u001b[0;32m    720\u001b[0m \u001b[1;33m\u001b[0m\u001b[0m\n\u001b[0;32m    721\u001b[0m     \u001b[1;32mdef\u001b[0m \u001b[0mclose\u001b[0m\u001b[1;33m(\u001b[0m\u001b[0mself\u001b[0m\u001b[1;33m)\u001b[0m\u001b[1;33m:\u001b[0m\u001b[1;33m\u001b[0m\u001b[0m\n",
      "\u001b[1;31mPy4JNetworkError\u001b[0m: An error occurred while trying to connect to the Java server (127.0.0.1:42310)"
     ]
    }
   ],
   "source": [
    "tweets =  sc.textFile('data/twitter_dump_small.txt')\\\n",
    ".filter(lambda tw: len(tw)>1)\\\n",
    ".filter(lambda tw: 'created_at' in tw)\\\n",
    ".map(tweet_process)\\\n",
    ".filter(lambda tw: tw != None)\\\n",
    ".map(lambda tw: tw['text'].lower() )\\\n"
   ]
  },
  {
   "cell_type": "code",
   "execution_count": 212,
   "metadata": {
    "collapsed": true
   },
   "outputs": [],
   "source": [
    "tweets_tokens = tweets.map(emoji_preprocess)"
   ]
  },
  {
   "cell_type": "code",
   "execution_count": 213,
   "metadata": {
    "collapsed": true
   },
   "outputs": [],
   "source": [
    "bigram_count = tweets.map(emoji_preprocess).flatMap(bigrams).map(lambda bg: (bg, 1)).reduceByKey(lambda cnt1, cnt2: cnt1+cnt2).collect()\n"
   ]
  },
  {
   "cell_type": "code",
   "execution_count": 218,
   "metadata": {
    "collapsed": true
   },
   "outputs": [],
   "source": [
    "trigram_count = tweets.map(emoji_preprocess).flatMap(trigrams).map(lambda bg: (bg, 1)).reduceByKey(lambda cnt1, cnt2: cnt1+cnt2).collect()\n"
   ]
  },
  {
   "cell_type": "code",
   "execution_count": 219,
   "metadata": {
    "collapsed": true
   },
   "outputs": [],
   "source": [
    "quadgrams_count = tweets.map(emoji_preprocess).flatMap(quadgrams).map(lambda bg: (bg, 1)).reduceByKey(lambda cnt1, cnt2: cnt1+cnt2).collect()\n"
   ]
  },
  {
   "cell_type": "code",
   "execution_count": 214,
   "metadata": {
    "collapsed": true
   },
   "outputs": [],
   "source": [
    "bigram_dict = defaultdict(Counter)\n",
    "trigram_dict = defaultdict(Counter)\n",
    "quadgram_dict= defaultdict(Counter) "
   ]
  },
  {
   "cell_type": "code",
   "execution_count": 215,
   "metadata": {
    "collapsed": false
   },
   "outputs": [],
   "source": [
    "for (((w0,),w1) , cnt) in bigram_count:\n",
    "    bigram_dict[w0][w1] = cnt"
   ]
  },
  {
   "cell_type": "code",
   "execution_count": 220,
   "metadata": {
    "collapsed": true
   },
   "outputs": [],
   "source": [
    "for (((w0, w1), w2), cnt) in trigram_count:\n",
    "    trigram_dict[(w0, w1)][w2] = cnt"
   ]
  },
  {
   "cell_type": "code",
   "execution_count": 221,
   "metadata": {
    "collapsed": false
   },
   "outputs": [
    {
     "name": "stdout",
     "output_type": "stream",
     "text": [
      "----------------------------------------\n",
      "Exception happened during processing of request from ('127.0.0.1', 55588)\n",
      "----------------------------------------\n"
     ]
    },
    {
     "name": "stderr",
     "output_type": "stream",
     "text": [
      "Traceback (most recent call last):\n",
      "  File \"/home/han/anaconda2/lib/python2.7/SocketServer.py\", line 295, in _handle_request_noblock\n",
      "    self.process_request(request, client_address)\n",
      "  File \"/home/han/anaconda2/lib/python2.7/SocketServer.py\", line 321, in process_request\n",
      "    self.finish_request(request, client_address)\n",
      "  File \"/home/han/anaconda2/lib/python2.7/SocketServer.py\", line 334, in finish_request\n",
      "    self.RequestHandlerClass(request, client_address, self)\n",
      "  File \"/home/han/anaconda2/lib/python2.7/SocketServer.py\", line 655, in __init__\n",
      "    self.handle()\n",
      "  File \"/usr/local/spark/python/pyspark/accumulators.py\", line 235, in handle\n",
      "    num_updates = read_int(self.rfile)\n",
      "  File \"/usr/local/spark/python/pyspark/serializers.py\", line 545, in read_int\n",
      "    raise EOFError\n",
      "EOFError\n"
     ]
    }
   ],
   "source": [
    "for (((w0, w1, w2), w3), cnt) in quadgrams_count:\n",
    "    quadgram_dict[(w0, w1, w2)][w3] = cnt"
   ]
  },
  {
   "cell_type": "code",
   "execution_count": 229,
   "metadata": {
    "collapsed": false
   },
   "outputs": [
    {
     "data": {
      "text/plain": [
       "[(u'</s>', 802),\n",
       " (u'morn', 757),\n",
       " (u'luck', 319),\n",
       " (u'to', 303),\n",
       " (u'for', 263),\n",
       " (u'but', 206),\n",
       " (u'day', 204),\n",
       " (u'thing', 197),\n",
       " (u'night', 190),\n",
       " (u'one', 186),\n",
       " (u'time', 160),\n",
       " (u'at', 151),\n",
       " (u'and', 133),\n",
       " (u'music', 130),\n",
       " (u'job', 121),\n",
       " (u'song', 109),\n",
       " (u'friend', 105),\n",
       " (u'idea', 101),\n",
       " (u'enough', 87),\n",
       " (u'i', 85),\n",
       " (u'news', 84),\n",
       " (u'so', 82),\n",
       " (u'with', 78),\n",
       " (u'in', 73),\n",
       " (u'heart', 72),\n",
       " (u'look', 72),\n",
       " (u'as', 66),\n",
       " (u'mood', 65),\n",
       " (u'man', 61),\n",
       " (u'wo\\u2026', 61),\n",
       " (u'peopl', 58),\n",
       " (u'work', 56),\n",
       " (u'vibe', 55),\n",
       " (u'guy', 50),\n",
       " (u'&amp;', 49),\n",
       " (u'bet', 47),\n",
       " (u'movi', 46),\n",
       " (u'point', 45),\n",
       " (u'on', 44),\n",
       " (u'\\u2026', 44),\n",
       " (u'luck&lt;3', 41),\n",
       " (u'that', 40),\n",
       " (u'enough\"\"', 40),\n",
       " (u'even', 39),\n",
       " (u'it', 38),\n",
       " (u'reason', 37),\n",
       " (u'column:', 36),\n",
       " (u'way', 34),\n",
       " (u'person', 33),\n",
       " (u'stuff', 32),\n",
       " (u'shit', 31),\n",
       " (u'about', 31),\n",
       " (u'god', 30),\n",
       " (u'afternoon', 30),\n",
       " (u'clean', 30),\n",
       " (u'the', 28),\n",
       " (u\"i'm\", 28),\n",
       " (u'or', 27),\n",
       " (u'question', 27),\n",
       " (u'chanc', 27),\n",
       " (u'old', 26),\n",
       " (u'girl', 26),\n",
       " (u'show', 26),\n",
       " (u'ol', 26),\n",
       " (u'you', 26),\n",
       " (u'ass', 26),\n",
       " (u'this', 26),\n",
       " (u'lord', 25),\n",
       " (u'will', 25),\n",
       " (u'food', 24),\n",
       " (u'game', 24),\n",
       " (u'is', 23),\n",
       " (u'player', 23),\n",
       " (u'boy', 23),\n",
       " (u'articl', 23),\n",
       " (u'fun', 23),\n",
       " (u'friendwil', 22),\n",
       " (u'right', 21),\n",
       " (u'thank', 21),\n",
       " (u'place', 21),\n",
       " (u'riddanc', 21),\n",
       " (u'if', 20),\n",
       " (u'he', 20),\n",
       " (u'weekend', 19),\n",
       " (u'too', 18),\n",
       " (u'read', 18),\n",
       " (u'life', 17),\n",
       " (u'tho', 17),\n",
       " (u'was', 17),\n",
       " (u'caus', 17),\n",
       " (u'feel', 17),\n",
       " (u'politician', 17),\n",
       " (u'use', 17),\n",
       " (u'nigh', 16),\n",
       " (u'answer', 16),\n",
       " (u'ole', 16),\n",
       " (u'when', 16),\n",
       " (u'fuck', 16),\n",
       " (u'week', 16),\n",
       " (u'choic', 15),\n",
       " (u'of', 15),\n",
       " (u'lol', 15),\n",
       " (u'debat', 15),\n",
       " (u'rn', 14),\n",
       " (u'grade', 14),\n",
       " (u'though', 14),\n",
       " (u'stori', 14),\n",
       " (u'\\U0001f60d', 13),\n",
       " (u'memori', 13),\n",
       " (u'bye', 13),\n",
       " (u'new', 12),\n",
       " (u'how', 12),\n",
       " (u'now', 12),\n",
       " (u'sport', 12),\n",
       " (u'a', 12),\n",
       " (u'team', 12),\n",
       " (u'businessman\"', 12),\n",
       " (u'\\U0001f602', 12),\n",
       " (u'\\U0001f60c', 11),\n",
       " (u'we', 11),\n",
       " (u'just', 11),\n",
       " (u'talk', 11),\n",
       " (u'not', 11),\n",
       " (u'call', 11),\n",
       " (u'great', 11),\n",
       " (u'weather', 11),\n",
       " (u'monday', 11),\n",
       " (u'school', 10),\n",
       " (u'wine', 10),\n",
       " (u'dog', 10),\n",
       " (u'intent', 10),\n",
       " (u':)', 10),\n",
       " (u'sign', 10),\n",
       " (u'advic', 10),\n",
       " (u'run', 10),\n",
       " (u'from', 10),\n",
       " (u'kid', 10),\n",
       " (u'like', 10),\n",
       " (u'busi', 9),\n",
       " (u'bad', 9),\n",
       " (u'lookin', 9),\n",
       " (u'fight', 9),\n",
       " (u'love', 9),\n",
       " (u'today', 9),\n",
       " (u'money', 9),\n",
       " (u'start', 9),\n",
       " (u'af', 9),\n",
       " (u'all', 9),\n",
       " (u'what', 9),\n",
       " (u'good', 9),\n",
       " (u'option', 9),\n",
       " (u'\\U0001f62d', 9),\n",
       " (u'\\U0001f60a', 9),\n",
       " (u'enough\"', 9),\n",
       " (u'move', 9),\n",
       " (u'laugh', 9),\n",
       " (u'teamwork', 9),\n",
       " (u'grief', 8),\n",
       " (u'my', 8),\n",
       " (u'then', 8),\n",
       " (u'they', 8),\n",
       " (u'\\U0001f44c', 8),\n",
       " (u'coach', 8),\n",
       " (u'word', 8),\n",
       " (u'locat', 8),\n",
       " (u'&gt;&gt;', 8),\n",
       " (u'care', 8),\n",
       " (u'track', 8),\n",
       " (u'seat', 8),\n",
       " (u'company/friend', 8),\n",
       " (u'wife', 8),\n",
       " (u'compani', 8),\n",
       " (u'\\u2764', 8),\n",
       " (u'play', 8),\n",
       " (u'poin', 8),\n",
       " (u'last', 8),\n",
       " (u'tast', 8),\n",
       " (u'sens', 8),\n",
       " (u'exampl', 8),\n",
       " (u'book', 8),\n",
       " (u'basketbal', 8),\n",
       " (u'haha', 7),\n",
       " (u'candid', 7),\n",
       " (u'over', 7),\n",
       " (u'becaus', 7),\n",
       " (u'ppl', 7),\n",
       " (u'live', 7),\n",
       " (u'take', 7),\n",
       " (u'onli', 7),\n",
       " (u'-roman', 7),\n",
       " (u'deed', 7),\n",
       " (u'number', 7),\n",
       " (u'plan', 7),\n",
       " (u'tonight', 7),\n",
       " (u'state', 7),\n",
       " (u'home', 7),\n",
       " (u'pictur', 7),\n",
       " (u'here', 6),\n",
       " (u'bro', 6),\n",
       " (u'end', 6),\n",
       " (u'after', 6),\n",
       " (u'-', 6),\n",
       " (u'men', 6),\n",
       " (u'\\U0001f60e', 6),\n",
       " (u'im', 6),\n",
       " (u'hand', 6),\n",
       " (u'remind', 6),\n",
       " (u'deal', 6),\n",
       " (u'term', 6),\n",
       " (u'year', 6),\n",
       " (u'\\U0001f629', 6),\n",
       " (u'\\U0001f4aa', 6),\n",
       " (u'price', 6),\n",
       " (u'come', 6),\n",
       " (u'(@', 6),\n",
       " (u'your', 6),\n",
       " (u'there', 6),\n",
       " (u'dinosaur', 6),\n",
       " (u\"i'll\", 6),\n",
       " (u'trade', 6),\n",
       " (u'w', 6),\n",
       " (u'while', 6),\n",
       " (u'bc', 6),\n",
       " (u'by', 6),\n",
       " (u'tri', 6),\n",
       " (u'convers', 6),\n",
       " (u'presid', 6),\n",
       " (u'qualiti', 6),\n",
       " (u'whi', 6),\n",
       " (u'she', 6),\n",
       " (u'shi', 6),\n",
       " (u'joke', 6),\n",
       " (u'drink', 6),\n",
       " (u'match', 6),\n",
       " (u'hair', 6),\n",
       " (u'pic', 6),\n",
       " (u'sleep', 5),\n",
       " (u'tweet', 5),\n",
       " (u'first', 5),\n",
       " (u'condit', 5),\n",
       " (u'no', 5),\n",
       " (u'test', 5),\n",
       " (u'\\U0001f44d', 5),\n",
       " (u'teacher', 5),\n",
       " (u'2', 5),\n",
       " (u'hillari', 5),\n",
       " (u'dick', 5),\n",
       " (u'pay', 5),\n",
       " (u'summer', 5),\n",
       " (u'veri', 5),\n",
       " (u'thread:', 5),\n",
       " (u\"don't\", 5),\n",
       " (u'realli', 5),\n",
       " (u'energi', 5),\n",
       " (u'health', 5),\n",
       " (u'part', 5),\n",
       " (u'see', 5),\n",
       " (u'moment', 5),\n",
       " (u'shape', 5),\n",
       " (u'be', 5),\n",
       " (u'win', 5),\n",
       " (u'\\U0001f608', 5),\n",
       " (u'interview', 5),\n",
       " (u'vs', 5),\n",
       " (u'piec', 5),\n",
       " (u'buddi', 4),\n",
       " (u'\\U0001f60f', 4),\n",
       " (u'give', 4),\n",
       " (u'woman', 4),\n",
       " (u'side', 4),\n",
       " (u\"we'v\", 4),\n",
       " (u'tip', 4),\n",
       " (u\"doesn't\", 4),\n",
       " (u'selfi', 4),\n",
       " (u'angl', 4),\n",
       " (u'manner', 4),\n",
       " (u'do', 4),\n",
       " (u'make', 4),\n",
       " (u'kpop', 4),\n",
       " (u'yes', 4),\n",
       " (u'mayb', 4),\n",
       " (u'\\U0001f60b', 4),\n",
       " (u'\\U0001f914', 4),\n",
       " (u'form', 4),\n",
       " (u'actor', 4),\n",
       " (u'decis', 4),\n",
       " (u'makeup', 4),\n",
       " (u'sake', 4),\n",
       " (u'dude', 4),\n",
       " (u'polici', 4),\n",
       " (u'note', 4),\n",
       " (u'shot', 4),\n",
       " (u'conscienc', 4),\n",
       " (u\"can't\", 4),\n",
       " (u'presiden', 4),\n",
       " (u'weed', 4),\n",
       " (u'without', 4),\n",
       " (u'tuesday', 4),\n",
       " (u'u', 4),\n",
       " (u'\\U0001f644', 4),\n",
       " (u'amount', 4),\n",
       " (u'relationship', 4),\n",
       " (u'sta', 4),\n",
       " (u'also', 4),\n",
       " (u\"they'r\", 4),\n",
       " (u'altern', 4),\n",
       " (u'muslim', 4),\n",
       " (u'duh', 4),\n",
       " (u'\\U0001f642', 4),\n",
       " (u'shaq', 4),\n",
       " (u'step', 4),\n",
       " (u'info', 4),\n",
       " (u'karma', 4),\n",
       " (u'go', 4),\n",
       " (u\"you'r\", 4),\n",
       " (u'video', 4),\n",
       " (u'provis\\u2026', 4),\n",
       " (u'system', 4),\n",
       " (u'thought', 4),\n",
       " (u'buy', 4),\n",
       " (u'everi', 3),\n",
       " (u'+', 3),\n",
       " (u'ever', 3),\n",
       " (u'anymor', 3),\n",
       " (u'campaign', 3),\n",
       " (u'feedback', 3),\n",
       " (u'fam', 3),\n",
       " (u'fit', 3),\n",
       " (u'workout', 3),\n",
       " (u'day\\u201d', 3),\n",
       " (u'nite', 3),\n",
       " (u'(at', 3),\n",
       " (u'\\U0001f64c', 3),\n",
       " (u'omg', 3),\n",
       " (u'\\U0001f64f', 3),\n",
       " (u'gracious', 3),\n",
       " (u'have', 3),\n",
       " (u'colleg', 3),\n",
       " (u'dinner', 3),\n",
       " (u'support', 3),\n",
       " (u'gig', 3),\n",
       " (u'tell', 3),\n",
       " (u'effort', 3),\n",
       " (u'soul', 3),\n",
       " (u'cat', 3),\n",
       " (u'trump', 3),\n",
       " (u'alway', 3),\n",
       " (u'spot', 3),\n",
       " (u'such', 3),\n",
       " (u'practic', 3),\n",
       " (u'yeah', 3),\n",
       " (u'morninghav', 3),\n",
       " (u'resourc', 3),\n",
       " (u'album', 3),\n",
       " (u'think', 3),\n",
       " (u'qua\\u2026', 3),\n",
       " (u'draft', 3),\n",
       " (u'season', 3),\n",
       " (u'huh', 3),\n",
       " (u'10', 3),\n",
       " (u'lmao', 3),\n",
       " (u'seri', 3),\n",
       " (u'get', 3),\n",
       " (u\"y'all\", 3),\n",
       " (u'3', 3),\n",
       " (u'case', 3),\n",
       " (u'mom', 3),\n",
       " (u'act', 3),\n",
       " (u'again', 3),\n",
       " (u'month', 3),\n",
       " (u'follow', 3),\n",
       " (u'program', 3),\n",
       " (u'burger', 3),\n",
       " (u'friday', 3),\n",
       " (u'christian', 3),\n",
       " (u'two', 3),\n",
       " (u'hour', 3),\n",
       " (u'american', 3),\n",
       " (u'danc', 3),\n",
       " (u'solut', 3),\n",
       " (u'his', 3),\n",
       " (u'cri', 3),\n",
       " (u'sex', 3),\n",
       " (u'are', 3),\n",
       " (u'episod', 3),\n",
       " (u'\\u270c', 3),\n",
       " (u'4', 3),\n",
       " (u'back', 3),\n",
       " (u'faith', 3),\n",
       " (u'long', 3),\n",
       " (u'line', 3),\n",
       " (u'let', 3),\n",
       " (u'30', 3),\n",
       " (u'next', 3),\n",
       " (u'trait', 3),\n",
       " (u'impress', 3),\n",
       " (u'light', 3),\n",
       " (u'republican', 3),\n",
       " (u'messag', 3),\n",
       " (u'charact', 3),\n",
       " (u'hope', 3),\n",
       " (u'email', 3),\n",
       " (u'tv', 3),\n",
       " (u'press', 3),\n",
       " (u'eat', 3),\n",
       " (u'news:', 3),\n",
       " (u'news)', 3),\n",
       " (u'digit', 2),\n",
       " (u'figh', 2),\n",
       " (u'advice:', 2),\n",
       " (u'enjoy', 2),\n",
       " (u'100', 2),\n",
       " (u'studi', 2),\n",
       " (u'me', 2),\n",
       " (u'quot', 2),\n",
       " (u'pizza', 2),\n",
       " (u'substanc', 2),\n",
       " (u'en\\u2026', 2),\n",
       " (u'better', 2),\n",
       " (u'week:', 2),\n",
       " (u'\\U0001f525', 2),\n",
       " (u'smh', 2),\n",
       " (u'day\\u2026', 2),\n",
       " (u'\\U0001f44f', 2),\n",
       " (u't\\u2026', 2),\n",
       " (u'techno', 2),\n",
       " (u'steward', 2),\n",
       " (u'listen', 2),\n",
       " (u'conserv', 2),\n",
       " (u'especi', 2),\n",
       " (u'excus', 2),\n",
       " (u'report', 2),\n",
       " (u'mawnin', 2),\n",
       " (u'w/', 2),\n",
       " (u'imho', 2),\n",
       " (u'boss', 2),\n",
       " (u'cop', 2),\n",
       " (u'coz', 2),\n",
       " (u'mean', 2),\n",
       " (u'catch', 2),\n",
       " (u'sad', 2),\n",
       " (u'rain', 2),\n",
       " (u\"he'll\", 2),\n",
       " (u'roommat', 2),\n",
       " (u'everyth', 2),\n",
       " (u'charlott', 2),\n",
       " (u'prison', 2),\n",
       " (u'save', 2),\n",
       " (u'hat', 2),\n",
       " (u'measur', 2),\n",
       " (u'xbox', 2),\n",
       " (u'son', 2),\n",
       " (u'trip', 2),\n",
       " (u'skin', 2),\n",
       " (u'21st', 2),\n",
       " (u'father', 2),\n",
       " (u'cook', 2),\n",
       " (u'die', 2),\n",
       " (u'brother', 2),\n",
       " (u'p', 2),\n",
       " (u'cooki', 2),\n",
       " (u'tweetstorm', 2),\n",
       " (u'remain', 2),\n",
       " (u'witch', 2),\n",
       " (u'1', 2),\n",
       " (u'product', 2),\n",
       " (u'passag', 2),\n",
       " (u'feelin', 2),\n",
       " (u'polit', 2),\n",
       " (u'\\U0001f613', 2),\n",
       " (u'onc', 2),\n",
       " (u'r', 2),\n",
       " (u'balanc', 2),\n",
       " (u'posit', 2),\n",
       " (u'argument', 2),\n",
       " (u'breakfast', 2),\n",
       " (u'berni', 2),\n",
       " (u'noth', 2),\n",
       " (u'lawd', 2),\n",
       " (u'dream', 2),\n",
       " (u'shop', 2),\n",
       " (u'artist', 2),\n",
       " (u'jr', 2),\n",
       " (u'weath', 2),\n",
       " (u'spirit', 2),\n",
       " (u'outcom', 2),\n",
       " (u'margin', 2),\n",
       " (u'driver', 2),\n",
       " (u'actress', 2),\n",
       " (u'real', 2),\n",
       " (u'around', 2),\n",
       " (u'either', 2),\n",
       " (u'\\U0001f47c', 2),\n",
       " (u'\\U0001f63b', 2),\n",
       " (u'pitcher', 2),\n",
       " (u'hire', 2),\n",
       " (u'ab', 2),\n",
       " (u'ad', 2),\n",
       " (u'5', 2),\n",
       " (u'may', 2),\n",
       " (u'wifi', 2),\n",
       " (u'adam', 2),\n",
       " (u'sound', 2),\n",
       " (u'mechan', 2),\n",
       " (u'list', 2),\n",
       " (u'rate', 2),\n",
       " (u'pass', 2),\n",
       " (u'free', 2),\n",
       " (u'pick', 2),\n",
       " (u'famili', 2),\n",
       " (u'eye', 2),\n",
       " (u'more', 2),\n",
       " (u'htt\\u2026', 2),\n",
       " (u'goal', 2),\n",
       " (u'acto', 2),\n",
       " (u'\\U0001f618', 2),\n",
       " (u'late', 2),\n",
       " (u'yo', 2),\n",
       " (u'foot', 2),\n",
       " (u'finish', 2),\n",
       " (u'research', 2),\n",
       " (u'\\U0001f643', 2),\n",
       " (u'asl', 2),\n",
       " (u'thread', 2),\n",
       " (u'store', 2),\n",
       " (u'theater', 2),\n",
       " (u'kind', 2),\n",
       " (u'\\U0001f445', 2),\n",
       " (u'ugh', 2),\n",
       " (u'\\U0001f4ab', 2),\n",
       " (u'\\U0001f481', 2),\n",
       " (u'educ', 2),\n",
       " (u'bill', 2),\n",
       " (u'read:', 2),\n",
       " (u'recent', 2),\n",
       " (u'birthday', 2),\n",
       " (u'cuz', 2),\n",
       " (u'd', 2),\n",
       " (u'surpris', 2),\n",
       " (u'bf', 2),\n",
       " (u'chat', 2),\n",
       " (u'w/dog/cats/kid', 2),\n",
       " (u'workou', 2),\n",
       " (u'remix', 2),\n",
       " (u'outing', 2),\n",
       " (u'send', 2),\n",
       " (u'eve', 2),\n",
       " (u'pleas', 2),\n",
       " (u'battl', 2),\n",
       " (u'can', 2),\n",
       " (u'chang', 2),\n",
       " (u'duck', 2),\n",
       " (u'camera', 2),\n",
       " (u'sort', 2),\n",
       " (u'actual', 2),\n",
       " (u'meet', 2),\n",
       " (u'employe', 2),\n",
       " (u'bernie\"', 2),\n",
       " (u'sir', 2),\n",
       " (u'nfl', 2),\n",
       " (u'\\U0001f633', 2),\n",
       " (u'combin', 2),\n",
       " (u'outsid', 2),\n",
       " (u'\\u2728', 2),\n",
       " (u'\\U0001f44a', 2),\n",
       " (u'photograph', 2),\n",
       " (u'result', 2),\n",
       " (u'\\U0001f917', 2),\n",
       " (u\"you'll\", 2),\n",
       " (u'anyway', 2),\n",
       " (u'bring', 2),\n",
       " (u'chicken', 2),\n",
       " (u'ha', 2),\n",
       " (u'manufactur', 2),\n",
       " (u'beat', 2),\n",
       " (u'eyebrow', 2),\n",
       " (u'\\U0001f607', 2),\n",
       " (u'cajun', 2),\n",
       " (u'addit', 2),\n",
       " (u'an', 2),\n",
       " (u'observ', 2),\n",
       " (u'partner', 2),\n",
       " (u'tattoo', 2),\n",
       " (u'competit', 2),\n",
       " (u'judgment', 2),\n",
       " (u'off', 2),\n",
       " (u'citizen', 2),\n",
       " (u'know', 2),\n",
       " (u'corpor', 2),\n",
       " (u'leader', 2),\n",
       " (u'journal', 2),\n",
       " (u'sander', 2),\n",
       " (u'otherwis', 2),\n",
       " (u'strategi', 2),\n",
       " (u'happen', 2),\n",
       " (u'probabl', 2),\n",
       " (u'rule', 2),\n",
       " (u'golf/tenni', 1),\n",
       " (u'music/jam', 1),\n",
       " (u'captain', 1),\n",
       " (u'hate', 1),\n",
       " (u'(for', 1),\n",
       " (u'aun', 1),\n",
       " (u'weekend#win', 1),\n",
       " (u'bestfriend', 1),\n",
       " (u'pinch', 1),\n",
       " (u'math', 1),\n",
       " (u'direct', 1),\n",
       " (u'nail', 1),\n",
       " (u'chea', 1),\n",
       " (u'creepeth', 1),\n",
       " (u'income;', 1),\n",
       " (u'me:', 1),\n",
       " (u'dialogu', 1),\n",
       " (u'ruthless', 1),\n",
       " (u'never', 1),\n",
       " (u'suga', 1),\n",
       " (u'studio', 1),\n",
       " (u'daughter', 1),\n",
       " (u'dri', 1),\n",
       " (u'credit', 1),\n",
       " (u\"i'd\", 1),\n",
       " (u'strat', 1),\n",
       " (u'meati', 1),\n",
       " (u'attitud', 1),\n",
       " (u'cops\"', 1),\n",
       " (u'\\u201cno\\u201d', 1),\n",
       " (u'unit', 1),\n",
       " (u'sarah', 1),\n",
       " (u'until', 1),\n",
       " (u'dns', 1),\n",
       " (u'recommend', 1),\n",
       " (u'broth', 1),\n",
       " (u'holi', 1),\n",
       " (u'tariff', 1),\n",
       " (u'dodg', 1),\n",
       " (u'room', 1),\n",
       " (u'tnx', 1),\n",
       " (u'wors', 1),\n",
       " (u'dev', 1),\n",
       " (u'advocaci', 1),\n",
       " (u'statistics:', 1),\n",
       " (u'travel', 1),\n",
       " (u'\\u314b', 1),\n",
       " (u'wrong', 1),\n",
       " (u'lay', 1),\n",
       " (u'lap', 1),\n",
       " (u'childhood', 1),\n",
       " (u'fan', 1),\n",
       " (u'\\U0001f912', 1),\n",
       " (u'fir', 1),\n",
       " (u'hospit', 1),\n",
       " (u'no-mess', 1),\n",
       " (u'hidden', 1),\n",
       " (u'therapi', 1),\n",
       " (u'baby\\u201d', 1),\n",
       " (u'thea', 1),\n",
       " (u'break', 1),\n",
       " (u'slurpe', 1),\n",
       " (u'grammar', 1),\n",
       " (u'meat', 1),\n",
       " (u'debut', 1),\n",
       " (u'l', 1),\n",
       " (u'roast', 1),\n",
       " (u'alexia', 1),\n",
       " (u'bone', 1),\n",
       " (u'content', 1),\n",
       " (u'got', 1),\n",
       " (u'situat', 1),\n",
       " (u'grades/colleg', 1),\n",
       " (u'soundcloud', 1),\n",
       " (u'bobwhit', 1),\n",
       " (u'fuckin', 1),\n",
       " (u'too)', 1),\n",
       " (u'rant', 1),\n",
       " (u'agre', 1),\n",
       " (u'$135', 1),\n",
       " (u'enough:((((', 1),\n",
       " (u'john', 1),\n",
       " (u'gym', 1),\n",
       " (u'jobsyour', 1),\n",
       " (u'week#passion@first-step#681k', 1),\n",
       " (u'to2', 1),\n",
       " (u'hike', 1),\n",
       " (u'coward', 1),\n",
       " (u'enough\\u2026', 1),\n",
       " (u'project', 1),\n",
       " (u'dog:', 1),\n",
       " (u'minut', 1),\n",
       " (u'donkey', 1),\n",
       " (u'seed', 1),\n",
       " (u'nba', 1),\n",
       " (u'data-', 1),\n",
       " (u'point-', 1),\n",
       " (u'morninggg', 1),\n",
       " (u'moanin', 1),\n",
       " (u'morninggo', 1),\n",
       " (u'legibl', 1),\n",
       " (u'welli', 1),\n",
       " (u'singer', 1),\n",
       " (u'don', 1),\n",
       " (u'doe', 1),\n",
       " (u'karma\\u2026', 1),\n",
       " (u'amus', 1),\n",
       " (u'\\U0001f48b', 1),\n",
       " (u'radio', 1),\n",
       " (u'earth', 1),\n",
       " (u'effo', 1),\n",
       " (u'time\"', 1),\n",
       " (u'buss', 1),\n",
       " (u'explain', 1),\n",
       " (u'restaur', 1),\n",
       " (u'theme', 1),\n",
       " (u'art(ists)\\u2026', 1),\n",
       " (u'rich', 1),\n",
       " (u'w/\\u2026', 1),\n",
       " (u'dl', 1),\n",
       " (u'ds', 1),\n",
       " (u'excel', 1),\n",
       " (u'bay', 1),\n",
       " (u'stead', 1),\n",
       " (u'\\U0001f576', 1),\n",
       " (u'fair', 1),\n",
       " (u'resist', 1),\n",
       " (u'pinot', 1),\n",
       " (u'respons', 1),\n",
       " (u'said', 1),\n",
       " (u'wish#mo', 1),\n",
       " (u'mug', 1),\n",
       " (u'approach', 1),\n",
       " (u'omf', 1),\n",
       " (u'extent', 1),\n",
       " (u'motto', 1),\n",
       " (u'vaudevillian', 1),\n",
       " (u'ill', 1),\n",
       " (u'against', 1),\n",
       " (u'ili', 1),\n",
       " (u'gamer', 1),\n",
       " (u'countri', 1),\n",
       " (u'con', 1),\n",
       " (u'2nd', 1),\n",
       " (u'seein', 1),\n",
       " (u'/henry:it', 1),\n",
       " (u'three', 1),\n",
       " (u'been', 1),\n",
       " (u'ting', 1),\n",
       " (u'noel', 1),\n",
       " (u'goaltend', 1),\n",
       " (u'craic', 1),\n",
       " (u'child', 1),\n",
       " (u'cunt', 1),\n",
       " (u'has', 1),\n",
       " (u'air', 1),\n",
       " (u'lesser', 1),\n",
       " (u'faith\"', 1),\n",
       " (u'hone', 1),\n",
       " (u'welsh', 1),\n",
       " (u'hang', 1),\n",
       " (u'fuse', 1),\n",
       " (u'\\u2757', 1),\n",
       " (u'tune', 1),\n",
       " (u'i\\u2026', 1),\n",
       " (u'thing:', 1),\n",
       " (u'opeth', 1),\n",
       " (u'contact', 1),\n",
       " (u'pandora', 1),\n",
       " (u'thing\"', 1),\n",
       " (u'programm', 1),\n",
       " (u'\\u2600', 1),\n",
       " (u'kale', 1),\n",
       " (u'yea', 1),\n",
       " (u'laptop', 1),\n",
       " (u'ham', 1),\n",
       " (u'expos', 1),\n",
       " (u'maya', 1),\n",
       " (u'*start', 1),\n",
       " (u'ditto', 1),\n",
       " (u'gift', 1),\n",
       " (u'avatar', 1),\n",
       " (u'\\U0001f645', 1),\n",
       " (u'morningtim', 1),\n",
       " (u'dead', 1),\n",
       " (u'wwe', 1),\n",
       " (u'donald', 1),\n",
       " (u'\\U0001f915', 1),\n",
       " (u'humou', 1),\n",
       " (u'shxt', 1),\n",
       " (u'ear', 1),\n",
       " (u'/', 1),\n",
       " (u'subdu', 1),\n",
       " (u'planne', 1),\n",
       " (u'\\U0001f339', 1),\n",
       " (u'creatur', 1),\n",
       " (u'burg', 1),\n",
       " (u'pls', 1),\n",
       " (u'entertainmen', 1),\n",
       " (u'gaara', 1),\n",
       " (u'confer', 1),\n",
       " (u'baha', 1),\n",
       " (u'post', 1),\n",
       " (u'*in', 1),\n",
       " (u'\\u266b', 1),\n",
       " (u'rb', 1),\n",
       " (u'clinton:i', 1),\n",
       " (u'produc', 1),\n",
       " (u'wrap', 1),\n",
       " (u'opportun', 1),\n",
       " (u'east', 1),\n",
       " (u'gin', 1),\n",
       " (u'analysi', 1),\n",
       " (u'head', 1),\n",
       " (u'trus', 1),\n",
       " (u'hear', 1),\n",
       " (u'\\u263a', 1),\n",
       " (u'hillarylet', 1),\n",
       " (u'atti', 1),\n",
       " (u'reeeeeeeeealli', 1),\n",
       " (u'featur', 1),\n",
       " (u'number\"', 1),\n",
       " (u'song*', 1),\n",
       " (u'na', 1),\n",
       " (u'til', 1),\n",
       " (u'communic', 1),\n",
       " (u'roll', 1),\n",
       " (u'syring', 1),\n",
       " (u'consid', 1),\n",
       " (u'stoke', 1),\n",
       " (u'detox', 1),\n",
       " (u'microcosm', 1),\n",
       " (u'flag', 1),\n",
       " (u'loyal', 1),\n",
       " (u'push', 1),\n",
       " (u'-jose', 1),\n",
       " (u'\\U0001f493', 1),\n",
       " (u'\\U0001f614', 1),\n",
       " (u'snarki', 1),\n",
       " (u'sourc', 1),\n",
       " (u':d', 1),\n",
       " (u'vegan', 1),\n",
       " (u'\\U0001f352', 1),\n",
       " (u'gut', 1),\n",
       " (u\"it'll\", 1),\n",
       " (u'talker', 1),\n",
       " (u'one:', 1),\n",
       " (u'spiri', 1),\n",
       " (u'health:', 1),\n",
       " (u'dimsum', 1),\n",
       " (u'gawd', 1),\n",
       " (u'*berni', 1),\n",
       " (u'drug', 1),\n",
       " (u'bop', 1),\n",
       " (u'thirti', 1),\n",
       " (u'weird', 1),\n",
       " (u'\\U0001f37d', 1),\n",
       " (u'geolog', 1),\n",
       " (u'\"mi', 1),\n",
       " (u'should', 1),\n",
       " (u'peep', 1),\n",
       " (u'univers', 1),\n",
       " (u'everybodi', 1),\n",
       " (u'prez', 1),\n",
       " (u\"ideai'm\", 1),\n",
       " (u'prep', 1),\n",
       " (u'dismal', 1),\n",
       " (u'film-', 1),\n",
       " (u'judg', 1),\n",
       " (u'vega', 1),\n",
       " (u'\\u26f5', 1),\n",
       " (u'whatev', 1),\n",
       " (u'predict', 1),\n",
       " (u'agent', 1),\n",
       " (u'topic', 1),\n",
       " (u'evita', 1),\n",
       " (u'\\U0001f615', 1),\n",
       " (u'council', 1),\n",
       " (u'spo', 1),\n",
       " (u'cardio', 1),\n",
       " (u'tilt', 1),\n",
       " (u'nyt', 1),\n",
       " (u'economi', 1),\n",
       " (u'guy\\u201d', 1),\n",
       " (u'fourth', 1),\n",
       " (u'nyc', 1),\n",
       " (u'\\U0001f3bc', 1),\n",
       " (u'lord\"', 1),\n",
       " (u'mac', 1),\n",
       " (u'4th', 1),\n",
       " (u'b-ball', 1),\n",
       " (u'date', 1),\n",
       " (u'data', 1),\n",
       " (u'defenderplaymakercould', 1),\n",
       " (u'divid', 1),\n",
       " (u'offens', 1),\n",
       " (u'q', 1),\n",
       " (u'inform', 1),\n",
       " (u'si', 1),\n",
       " (u'kurt', 1),\n",
       " (u'publicity\"', 1),\n",
       " (u'lyric', 1),\n",
       " (u'cold', 1),\n",
       " (u'(&gt;banks)', 1),\n",
       " (u'pointer', 1),\n",
       " (u'womanrip', 1),\n",
       " (u'concis', 1),\n",
       " (u'jim', 1),\n",
       " (u're:cruz', 1),\n",
       " (u\"he'd\", 1),\n",
       " (u'platform', 1),\n",
       " (u'lunch', 1),\n",
       " (u'discuss', 1),\n",
       " (u'&gt;', 1),\n",
       " (u'name', 1),\n",
       " (u'drop', 1),\n",
       " (u'people/th', 1),\n",
       " (u'courag', 1),\n",
       " (u'nighttt', 1),\n",
       " (u'thing#lovemarriottreward', 1),\n",
       " (u'eh', 1),\n",
       " (u'moonshin', 1),\n",
       " (u'3rd', 1),\n",
       " (u'adviceactu', 1),\n",
       " (u'internet', 1),\n",
       " (u'romanc', 1),\n",
       " (u'headlin', 1),\n",
       " (u'lmk', 1),\n",
       " (u'california', 1),\n",
       " (u'romant', 1),\n",
       " (u'funki', 1),\n",
       " (u'honest', 1),\n",
       " (u'thoughts/prayers/vib', 1),\n",
       " (u'fast', 1),\n",
       " (u'tomorrow', 1),\n",
       " (u'fk', 1),\n",
       " (u'christma', 1),\n",
       " (u'bitc', 1),\n",
       " (u'fo', 1),\n",
       " (u'copi', 1),\n",
       " (u'\\U0001f338', 1),\n",
       " (u'boyfriend', 1),\n",
       " (u'11', 1),\n",
       " (u'13', 1),\n",
       " (u'gotta', 1),\n",
       " (u'vocali', 1),\n",
       " (u'server', 1),\n",
       " (u'pre', 1),\n",
       " (u'ang', 1),\n",
       " (u'10-15', 1),\n",
       " (u'(and', 1),\n",
       " (u'rooki', 1),\n",
       " (u'kush', 1),\n",
       " (u'techniqu', 1),\n",
       " (u'ideal', 1),\n",
       " (u'advis', 1),\n",
       " (u'200', 1),\n",
       " (u'an\\u2026', 1),\n",
       " (u'sure', 1),\n",
       " (u'america', 1),\n",
       " (u'd-line', 1),\n",
       " (u'seafood', 1),\n",
       " (u'proud', 1),\n",
       " (u'drive', 1),\n",
       " (u'senior', 1),\n",
       " (u'shoe', 1),\n",
       " (u'morning/even', 1),\n",
       " (u'fifth', 1),\n",
       " (u'snack', 1),\n",
       " (u'freeagent', 1),\n",
       " (u'hockey', 1),\n",
       " (u'ani', 1),\n",
       " (u'pastrami', 1),\n",
       " (u'nightyui', 1),\n",
       " (u'secondari', 1),\n",
       " (u'\\U0001f450', 1),\n",
       " (u'2me', 1),\n",
       " (u\":')\", 1),\n",
       " (u'stupid', 1),\n",
       " (u'tortilla', 1),\n",
       " (u'cheerlead', 1),\n",
       " (u'storm\"', 1),\n",
       " (u'summari', 1),\n",
       " (u'concert', 1),\n",
       " (u'job\\u2026', 1),\n",
       " (u'review', 1),\n",
       " (u'choice/:', 1),\n",
       " (u'import', 1),\n",
       " (u'parent', 1),\n",
       " (u'ju', 1),\n",
       " (u'tanin', 1),\n",
       " (u'comeback', 1),\n",
       " (u'contract', 1),\n",
       " (u'improv', 1),\n",
       " (u'overview', 1),\n",
       " (u'poll', 1),\n",
       " (u'coupl', 1),\n",
       " (u'west', 1),\n",
       " (u'reflex', 1),\n",
       " (u'\\U0001f354', 1),\n",
       " (u'hatin', 1),\n",
       " (u'cash', 1),\n",
       " (u'life)', 1),\n",
       " ...]"
      ]
     },
     "execution_count": 229,
     "metadata": {},
     "output_type": "execute_result"
    }
   ],
   "source": [
    "bigram_dict[u'good'].most_common()"
   ]
  },
  {
   "cell_type": "code",
   "execution_count": 235,
   "metadata": {
    "collapsed": false
   },
   "outputs": [
    {
     "name": "stderr",
     "output_type": "stream",
     "text": [
      "ERROR:py4j.java_gateway:Error while sending or receiving.\n",
      "Traceback (most recent call last):\n",
      "  File \"/home/han/anaconda2/lib/python2.7/site-packages/py4j/java_gateway.py\", line 768, in send_command\n",
      "    raise Py4JError(\"Answer from Java side is empty\")\n",
      "Py4JError: Answer from Java side is empty\n",
      "ERROR:py4j.java_gateway:An error occurred while trying to connect to the Java server (127.0.0.1:42310)\n",
      "Traceback (most recent call last):\n",
      "  File \"/home/han/anaconda2/lib/python2.7/site-packages/py4j/java_gateway.py\", line 712, in start\n",
      "    self.socket.connect((self.address, self.port))\n",
      "  File \"/home/han/anaconda2/lib/python2.7/socket.py\", line 228, in meth\n",
      "    return getattr(self._sock,name)(*args)\n",
      "error: [Errno 111] Connection refused\n"
     ]
    },
    {
     "ename": "TypeError",
     "evalue": "unhashable type: 'list'",
     "output_type": "error",
     "traceback": [
      "\u001b[1;31m---------------------------------------------------------------------------\u001b[0m",
      "\u001b[1;31mTypeError\u001b[0m                                 Traceback (most recent call last)",
      "\u001b[1;32m<ipython-input-235-69147f30c901>\u001b[0m in \u001b[0;36m<module>\u001b[1;34m()\u001b[0m\n\u001b[1;32m----> 1\u001b[1;33m \u001b[0memoji_preprocess\u001b[0m\u001b[1;33m(\u001b[0m\u001b[1;34m'how are you'\u001b[0m\u001b[1;33m)\u001b[0m\u001b[1;33m[\u001b[0m\u001b[1;33m-\u001b[0m\u001b[1;36m4\u001b[0m\u001b[1;33m:\u001b[0m\u001b[1;33m-\u001b[0m\u001b[1;36m1\u001b[0m\u001b[1;33m]\u001b[0m \u001b[1;32min\u001b[0m \u001b[0mtrigram_dict\u001b[0m\u001b[1;33m\u001b[0m\u001b[0m\n\u001b[0m",
      "\u001b[1;31mTypeError\u001b[0m: unhashable type: 'list'"
     ]
    }
   ],
   "source": [
    "emoji_preprocess('how are you')[-4:-1] in trigram_dict"
   ]
  },
  {
   "cell_type": "code",
   "execution_count": 165,
   "metadata": {
    "collapsed": false
   },
   "outputs": [
    {
     "data": {
      "text/plain": [
       "546682"
      ]
     },
     "execution_count": 165,
     "metadata": {},
     "output_type": "execute_result"
    }
   ],
   "source": [
    "sc.textFile('data/twitter_dump.txt').filter(lambda x: len(x)>1 and 'created_at' in x).count()"
   ]
  },
  {
   "cell_type": "code",
   "execution_count": 98,
   "metadata": {
    "collapsed": false
   },
   "outputs": [
    {
     "data": {
      "text/plain": [
       "u'[\\u2712\\u2714\\u2716\\u271d\\u2721\\u2728\\u2733\\u2734\\u2744\\u2747\\u274c\\u274e\\u2753-\\u2755\\u2757\\u2763\\u2764\\u2795-\\u2797\\u27a1\\u27b0\\u27bf\\u2934\\u2935\\u2b05-\\u2b07\\u2b1b\\u2b1c\\u2b50\\u2b55\\u3030\\u303d\\U0001f004\\U0001f0cf\\U0001f170\\U0001f171\\U0001f17e\\U0001f17f\\U0001f18e\\U0001f191-\\U0001f19a\\U0001f201\\U0001f202\\U0001f21a\\U0001f22f\\U0001f232-\\U0001f23a\\U0001f250\\U0001f251\\U0001f300-\\U0001f321\\U0001f324-\\U0001f393\\U0001f396\\U0001f397\\U0001f399-\\U0001f39b\\U0001f39e-\\U0001f3f0\\U0001f3f3-\\U0001f3f5\\U0001f3f7-\\U0001f4fd\\U0001f4ff-\\U0001f53d\\U0001f549-\\U0001f54e\\U0001f550-\\U0001f567\\U0001f56f\\U0001f570\\U0001f573-\\U0001f579\\U0001f587\\U0001f58a-\\U0001f58d\\U0001f590\\U0001f595\\U0001f596\\U0001f5a5\\U0001f5a8\\U0001f5b1\\U0001f5b2\\U0001f5bc\\U0001f5c2-\\U0001f5c4\\U0001f5d1-\\U0001f5d3\\U0001f5dc-\\U0001f5de\\U0001f5e1\\U0001f5e3\\U0001f5ef\\U0001f5f3\\U0001f5fa-\\U0001f64f\\U0001f680-\\U0001f6c5\\U0001f6cb-\\U0001f6d0\\U0001f6e0-\\U0001f6e5\\U0001f6e9\\U0001f6eb\\U0001f6ec\\U0001f6f0\\U0001f6f3\\U0001f910-\\U0001f918\\U0001f980-\\U0001f984\\U0001f9c0\\u3297\\u3299\\xa9\\xae\\u203c\\u2049\\u2122\\u2139\\u2194-\\u2199\\u21a9\\u21aa\\u231a\\u231b\\u2328\\u2388\\u23cf\\u23e9-\\u23f3\\u23f8-\\u23fa\\u24c2\\u25aa\\u25ab\\u25b6\\u25c0\\u25fb-\\u25fe\\u2600-\\u2604\\u260e\\u2611\\u2614\\u2615\\u2618\\u261d\\u2620\\u2622\\u2623\\u2626\\u262a\\u262e\\u262f\\u2638-\\u263a\\u2648-\\u2653\\u2660\\u2663\\u2665\\u2666\\u2668\\u267b\\u267f\\u2692-\\u2694\\u2696\\u2697\\u2699\\u269b\\u269c\\u26a0\\u26a1\\u26aa\\u26ab\\u26b0\\u26b1\\u26bd\\u26be\\u26c4\\u26c5\\u26c8\\u26ce\\u26cf\\u26d1\\u26d3\\u26d4\\u26e9\\u26ea\\u26f0-\\u26f5\\u26f7-\\u26fa\\u26fd\\u2702\\u2705\\u2708-\\u270d\\u270f]|[#]\\u20e3|[*]\\u20e3|[0]\\u20e3|[1]\\u20e3|[2]\\u20e3|[3]\\u20e3|[4]\\u20e3|[5]\\u20e3|[6]\\u20e3|[7]\\u20e3|[8]\\u20e3|[9]\\u20e3|\\U0001f1e6[\\U0001f1e8-\\U0001f1ec\\U0001f1ee\\U0001f1f1\\U0001f1f2\\U0001f1f4\\U0001f1f6-\\U0001f1fa\\U0001f1fc\\U0001f1fd\\U0001f1ff]|\\U0001f1e7[\\U0001f1e6\\U0001f1e7\\U0001f1e9-\\U0001f1ef\\U0001f1f1-\\U0001f1f4\\U0001f1f6-\\U0001f1f9\\U0001f1fb\\U0001f1fc\\U0001f1fe\\U0001f1ff]|\\U0001f1e8[\\U0001f1e6\\U0001f1e8\\U0001f1e9\\U0001f1eb-\\U0001f1ee\\U0001f1f0-\\U0001f1f5\\U0001f1f7\\U0001f1fa-\\U0001f1ff]|\\U0001f1e9[\\U0001f1ea\\U0001f1ec\\U0001f1ef\\U0001f1f0\\U0001f1f2\\U0001f1f4\\U0001f1ff]|\\U0001f1ea[\\U0001f1e6\\U0001f1e8\\U0001f1ea\\U0001f1ec\\U0001f1ed\\U0001f1f7-\\U0001f1fa]|\\U0001f1eb[\\U0001f1ee-\\U0001f1f0\\U0001f1f2\\U0001f1f4\\U0001f1f7]|\\U0001f1ec[\\U0001f1e6\\U0001f1e7\\U0001f1e9-\\U0001f1ee\\U0001f1f1-\\U0001f1f3\\U0001f1f5-\\U0001f1fa\\U0001f1fc\\U0001f1fe]|\\U0001f1ed[\\U0001f1f0\\U0001f1f2\\U0001f1f3\\U0001f1f7\\U0001f1f9\\U0001f1fa]|\\U0001f1ee[\\U0001f1e8-\\U0001f1ea\\U0001f1f1-\\U0001f1f4\\U0001f1f6-\\U0001f1f9]|\\U0001f1ef[\\U0001f1ea\\U0001f1f2\\U0001f1f4\\U0001f1f5]|\\U0001f1f0[\\U0001f1ea\\U0001f1ec-\\U0001f1ee\\U0001f1f2\\U0001f1f3\\U0001f1f5\\U0001f1f7\\U0001f1fc\\U0001f1fe\\U0001f1ff]|\\U0001f1f1[\\U0001f1e6-\\U0001f1e8\\U0001f1ee\\U0001f1f0\\U0001f1f7-\\U0001f1fb\\U0001f1fe]|\\U0001f1f2[\\U0001f1e6\\U0001f1e8-\\U0001f1ed\\U0001f1f0-\\U0001f1ff]|\\U0001f1f3[\\U0001f1e6\\U0001f1e8\\U0001f1ea-\\U0001f1ec\\U0001f1ee\\U0001f1f1\\U0001f1f4\\U0001f1f5\\U0001f1f7\\U0001f1fa\\U0001f1ff]|\\U0001f1f4\\U0001f1f2|\\U0001f1f5[\\U0001f1e6\\U0001f1ea-\\U0001f1ed\\U0001f1f0-\\U0001f1f3\\U0001f1f7-\\U0001f1f9\\U0001f1fc\\U0001f1fe]|\\U0001f1f6\\U0001f1e6|\\U0001f1f7[\\U0001f1ea\\U0001f1f4\\U0001f1f8\\U0001f1fa\\U0001f1fc]|\\U0001f1f8[\\U0001f1e6-\\U0001f1ea\\U0001f1ec-\\U0001f1f4\\U0001f1f7-\\U0001f1f9\\U0001f1fb\\U0001f1fd-\\U0001f1ff]|\\U0001f1f9[\\U0001f1e6\\U0001f1e8\\U0001f1e9\\U0001f1eb-\\U0001f1ed\\U0001f1ef-\\U0001f1f4\\U0001f1f7\\U0001f1f9\\U0001f1fb\\U0001f1fc\\U0001f1ff]|\\U0001f1fa[\\U0001f1e6\\U0001f1ec\\U0001f1f2\\U0001f1f8\\U0001f1fe\\U0001f1ff]|\\U0001f1fb[\\U0001f1e6\\U0001f1e8\\U0001f1ea\\U0001f1ec\\U0001f1ee\\U0001f1f3\\U0001f1fa]|\\U0001f1fc[\\U0001f1eb\\U0001f1f8]|\\U0001f1fd\\U0001f1f0|\\U0001f1fe[\\U0001f1ea\\U0001f1f9]|\\U0001f1ff[\\U0001f1e6\\U0001f1f2\\U0001f1fc]|[0-9*#]\\ufe0f\\u20e3'"
      ]
     },
     "execution_count": 98,
     "metadata": {},
     "output_type": "execute_result"
    }
   ],
   "source": [
    "REGEX"
   ]
  },
  {
   "cell_type": "code",
   "execution_count": 14,
   "metadata": {
    "collapsed": false
   },
   "outputs": [],
   "source": [
    "from textblob import TextBlob"
   ]
  },
  {
   "cell_type": "markdown",
   "metadata": {
    "collapsed": true
   },
   "source": [
    "# Testing word2vec"
   ]
  },
  {
   "cell_type": "code",
   "execution_count": 23,
   "metadata": {
    "collapsed": false
   },
   "outputs": [],
   "source": [
    "with open('/home/han/.api_key/awsaccesskey.json') as f:\n",
    "    key= json.load(f)\n",
    "    \n",
    "    access= key['access-key']\n",
    "    secret = key['secret-access-key']"
   ]
  },
  {
   "cell_type": "code",
   "execution_count": 24,
   "metadata": {
    "collapsed": true
   },
   "outputs": [],
   "source": [
    "data = sc.textFile('s3n://'+access+':'+secret +'@sparkdatasets/text8_lines')\n"
   ]
  },
  {
   "cell_type": "code",
   "execution_count": 28,
   "metadata": {
    "collapsed": true
   },
   "outputs": [],
   "source": [
    "from pyspark.mllib.feature import Word2Vec\n",
    "word2vec = Word2Vec()\n"
   ]
  },
  {
   "cell_type": "code",
   "execution_count": 30,
   "metadata": {
    "collapsed": false,
    "scrolled": true
   },
   "outputs": [
    {
     "ename": "Py4JJavaError",
     "evalue": "An error occurred while calling o94.trainWord2VecModel.\n: org.apache.spark.SparkException: Job aborted due to stage failure: Task 0 in stage 9.0 failed 1 times, most recent failure: Lost task 0.0 in stage 9.0 (TID 74, localhost): java.lang.ClassCastException: java.lang.String cannot be cast to java.lang.Iterable\n\tat org.apache.spark.mllib.feature.Word2Vec$$anonfun$fit$2.apply(Word2Vec.scala:431)\n\tat scala.collection.Iterator$$anon$11.next(Iterator.scala:328)\n\tat scala.collection.Iterator$$anon$13.hasNext(Iterator.scala:371)\n\tat scala.collection.Iterator$$anon$11.hasNext(Iterator.scala:327)\n\tat org.apache.spark.util.collection.ExternalSorter.insertAll(ExternalSorter.scala:189)\n\tat org.apache.spark.shuffle.sort.SortShuffleWriter.write(SortShuffleWriter.scala:64)\n\tat org.apache.spark.scheduler.ShuffleMapTask.runTask(ShuffleMapTask.scala:73)\n\tat org.apache.spark.scheduler.ShuffleMapTask.runTask(ShuffleMapTask.scala:41)\n\tat org.apache.spark.scheduler.Task.run(Task.scala:89)\n\tat org.apache.spark.executor.Executor$TaskRunner.run(Executor.scala:213)\n\tat java.util.concurrent.ThreadPoolExecutor.runWorker(ThreadPoolExecutor.java:1142)\n\tat java.util.concurrent.ThreadPoolExecutor$Worker.run(ThreadPoolExecutor.java:617)\n\tat java.lang.Thread.run(Thread.java:745)\n\nDriver stacktrace:\n\tat org.apache.spark.scheduler.DAGScheduler.org$apache$spark$scheduler$DAGScheduler$$failJobAndIndependentStages(DAGScheduler.scala:1431)\n\tat org.apache.spark.scheduler.DAGScheduler$$anonfun$abortStage$1.apply(DAGScheduler.scala:1419)\n\tat org.apache.spark.scheduler.DAGScheduler$$anonfun$abortStage$1.apply(DAGScheduler.scala:1418)\n\tat scala.collection.mutable.ResizableArray$class.foreach(ResizableArray.scala:59)\n\tat scala.collection.mutable.ArrayBuffer.foreach(ArrayBuffer.scala:47)\n\tat org.apache.spark.scheduler.DAGScheduler.abortStage(DAGScheduler.scala:1418)\n\tat org.apache.spark.scheduler.DAGScheduler$$anonfun$handleTaskSetFailed$1.apply(DAGScheduler.scala:799)\n\tat org.apache.spark.scheduler.DAGScheduler$$anonfun$handleTaskSetFailed$1.apply(DAGScheduler.scala:799)\n\tat scala.Option.foreach(Option.scala:236)\n\tat org.apache.spark.scheduler.DAGScheduler.handleTaskSetFailed(DAGScheduler.scala:799)\n\tat org.apache.spark.scheduler.DAGSchedulerEventProcessLoop.doOnReceive(DAGScheduler.scala:1640)\n\tat org.apache.spark.scheduler.DAGSchedulerEventProcessLoop.onReceive(DAGScheduler.scala:1599)\n\tat org.apache.spark.scheduler.DAGSchedulerEventProcessLoop.onReceive(DAGScheduler.scala:1588)\n\tat org.apache.spark.util.EventLoop$$anon$1.run(EventLoop.scala:48)\n\tat org.apache.spark.scheduler.DAGScheduler.runJob(DAGScheduler.scala:620)\n\tat org.apache.spark.SparkContext.runJob(SparkContext.scala:1832)\n\tat org.apache.spark.SparkContext.runJob(SparkContext.scala:1845)\n\tat org.apache.spark.SparkContext.runJob(SparkContext.scala:1858)\n\tat org.apache.spark.SparkContext.runJob(SparkContext.scala:1929)\n\tat org.apache.spark.rdd.RDD$$anonfun$collect$1.apply(RDD.scala:927)\n\tat org.apache.spark.rdd.RDDOperationScope$.withScope(RDDOperationScope.scala:150)\n\tat org.apache.spark.rdd.RDDOperationScope$.withScope(RDDOperationScope.scala:111)\n\tat org.apache.spark.rdd.RDD.withScope(RDD.scala:316)\n\tat org.apache.spark.rdd.RDD.collect(RDD.scala:926)\n\tat org.apache.spark.mllib.feature.Word2Vec.learnVocab(Word2Vec.scala:170)\n\tat org.apache.spark.mllib.feature.Word2Vec.fit(Word2Vec.scala:284)\n\tat org.apache.spark.mllib.feature.Word2Vec.fit(Word2Vec.scala:431)\n\tat org.apache.spark.mllib.api.python.PythonMLLibAPI.trainWord2VecModel(PythonMLLibAPI.scala:676)\n\tat sun.reflect.NativeMethodAccessorImpl.invoke0(Native Method)\n\tat sun.reflect.NativeMethodAccessorImpl.invoke(NativeMethodAccessorImpl.java:62)\n\tat sun.reflect.DelegatingMethodAccessorImpl.invoke(DelegatingMethodAccessorImpl.java:43)\n\tat java.lang.reflect.Method.invoke(Method.java:497)\n\tat py4j.reflection.MethodInvoker.invoke(MethodInvoker.java:231)\n\tat py4j.reflection.ReflectionEngine.invoke(ReflectionEngine.java:381)\n\tat py4j.Gateway.invoke(Gateway.java:259)\n\tat py4j.commands.AbstractCommand.invokeMethod(AbstractCommand.java:133)\n\tat py4j.commands.CallCommand.execute(CallCommand.java:79)\n\tat py4j.GatewayConnection.run(GatewayConnection.java:209)\n\tat java.lang.Thread.run(Thread.java:745)\nCaused by: java.lang.ClassCastException: java.lang.String cannot be cast to java.lang.Iterable\n\tat org.apache.spark.mllib.feature.Word2Vec$$anonfun$fit$2.apply(Word2Vec.scala:431)\n\tat scala.collection.Iterator$$anon$11.next(Iterator.scala:328)\n\tat scala.collection.Iterator$$anon$13.hasNext(Iterator.scala:371)\n\tat scala.collection.Iterator$$anon$11.hasNext(Iterator.scala:327)\n\tat org.apache.spark.util.collection.ExternalSorter.insertAll(ExternalSorter.scala:189)\n\tat org.apache.spark.shuffle.sort.SortShuffleWriter.write(SortShuffleWriter.scala:64)\n\tat org.apache.spark.scheduler.ShuffleMapTask.runTask(ShuffleMapTask.scala:73)\n\tat org.apache.spark.scheduler.ShuffleMapTask.runTask(ShuffleMapTask.scala:41)\n\tat org.apache.spark.scheduler.Task.run(Task.scala:89)\n\tat org.apache.spark.executor.Executor$TaskRunner.run(Executor.scala:213)\n\tat java.util.concurrent.ThreadPoolExecutor.runWorker(ThreadPoolExecutor.java:1142)\n\tat java.util.concurrent.ThreadPoolExecutor$Worker.run(ThreadPoolExecutor.java:617)\n\t... 1 more\n",
     "output_type": "error",
     "traceback": [
      "\u001b[1;31m---------------------------------------------------------------------------\u001b[0m",
      "\u001b[1;31mPy4JJavaError\u001b[0m                             Traceback (most recent call last)",
      "\u001b[1;32m<ipython-input-30-abf56d0a2687>\u001b[0m in \u001b[0;36m<module>\u001b[1;34m()\u001b[0m\n\u001b[1;32m----> 1\u001b[1;33m \u001b[0mword2vec\u001b[0m\u001b[1;33m.\u001b[0m\u001b[0mfit\u001b[0m\u001b[1;33m(\u001b[0m\u001b[0mdata\u001b[0m\u001b[1;33m)\u001b[0m\u001b[1;33m\u001b[0m\u001b[0m\n\u001b[0m",
      "\u001b[1;32m/usr/local/spark/python/pyspark/mllib/feature.pyc\u001b[0m in \u001b[0;36mfit\u001b[1;34m(self, data)\u001b[0m\n\u001b[0;32m    628\u001b[0m                                \u001b[0mfloat\u001b[0m\u001b[1;33m(\u001b[0m\u001b[0mself\u001b[0m\u001b[1;33m.\u001b[0m\u001b[0mlearningRate\u001b[0m\u001b[1;33m)\u001b[0m\u001b[1;33m,\u001b[0m \u001b[0mint\u001b[0m\u001b[1;33m(\u001b[0m\u001b[0mself\u001b[0m\u001b[1;33m.\u001b[0m\u001b[0mnumPartitions\u001b[0m\u001b[1;33m)\u001b[0m\u001b[1;33m,\u001b[0m\u001b[1;33m\u001b[0m\u001b[0m\n\u001b[0;32m    629\u001b[0m                                \u001b[0mint\u001b[0m\u001b[1;33m(\u001b[0m\u001b[0mself\u001b[0m\u001b[1;33m.\u001b[0m\u001b[0mnumIterations\u001b[0m\u001b[1;33m)\u001b[0m\u001b[1;33m,\u001b[0m \u001b[0mint\u001b[0m\u001b[1;33m(\u001b[0m\u001b[0mself\u001b[0m\u001b[1;33m.\u001b[0m\u001b[0mseed\u001b[0m\u001b[1;33m)\u001b[0m\u001b[1;33m,\u001b[0m\u001b[1;33m\u001b[0m\u001b[0m\n\u001b[1;32m--> 630\u001b[1;33m                                int(self.minCount))\n\u001b[0m\u001b[0;32m    631\u001b[0m         \u001b[1;32mreturn\u001b[0m \u001b[0mWord2VecModel\u001b[0m\u001b[1;33m(\u001b[0m\u001b[0mjmodel\u001b[0m\u001b[1;33m)\u001b[0m\u001b[1;33m\u001b[0m\u001b[0m\n\u001b[0;32m    632\u001b[0m \u001b[1;33m\u001b[0m\u001b[0m\n",
      "\u001b[1;32m/usr/local/spark/python/pyspark/mllib/common.pyc\u001b[0m in \u001b[0;36mcallMLlibFunc\u001b[1;34m(name, *args)\u001b[0m\n\u001b[0;32m    128\u001b[0m     \u001b[0msc\u001b[0m \u001b[1;33m=\u001b[0m \u001b[0mSparkContext\u001b[0m\u001b[1;33m.\u001b[0m\u001b[0mgetOrCreate\u001b[0m\u001b[1;33m(\u001b[0m\u001b[1;33m)\u001b[0m\u001b[1;33m\u001b[0m\u001b[0m\n\u001b[0;32m    129\u001b[0m     \u001b[0mapi\u001b[0m \u001b[1;33m=\u001b[0m \u001b[0mgetattr\u001b[0m\u001b[1;33m(\u001b[0m\u001b[0msc\u001b[0m\u001b[1;33m.\u001b[0m\u001b[0m_jvm\u001b[0m\u001b[1;33m.\u001b[0m\u001b[0mPythonMLLibAPI\u001b[0m\u001b[1;33m(\u001b[0m\u001b[1;33m)\u001b[0m\u001b[1;33m,\u001b[0m \u001b[0mname\u001b[0m\u001b[1;33m)\u001b[0m\u001b[1;33m\u001b[0m\u001b[0m\n\u001b[1;32m--> 130\u001b[1;33m     \u001b[1;32mreturn\u001b[0m \u001b[0mcallJavaFunc\u001b[0m\u001b[1;33m(\u001b[0m\u001b[0msc\u001b[0m\u001b[1;33m,\u001b[0m \u001b[0mapi\u001b[0m\u001b[1;33m,\u001b[0m \u001b[1;33m*\u001b[0m\u001b[0margs\u001b[0m\u001b[1;33m)\u001b[0m\u001b[1;33m\u001b[0m\u001b[0m\n\u001b[0m\u001b[0;32m    131\u001b[0m \u001b[1;33m\u001b[0m\u001b[0m\n\u001b[0;32m    132\u001b[0m \u001b[1;33m\u001b[0m\u001b[0m\n",
      "\u001b[1;32m/usr/local/spark/python/pyspark/mllib/common.pyc\u001b[0m in \u001b[0;36mcallJavaFunc\u001b[1;34m(sc, func, *args)\u001b[0m\n\u001b[0;32m    121\u001b[0m     \u001b[1;34m\"\"\" Call Java Function \"\"\"\u001b[0m\u001b[1;33m\u001b[0m\u001b[0m\n\u001b[0;32m    122\u001b[0m     \u001b[0margs\u001b[0m \u001b[1;33m=\u001b[0m \u001b[1;33m[\u001b[0m\u001b[0m_py2java\u001b[0m\u001b[1;33m(\u001b[0m\u001b[0msc\u001b[0m\u001b[1;33m,\u001b[0m \u001b[0ma\u001b[0m\u001b[1;33m)\u001b[0m \u001b[1;32mfor\u001b[0m \u001b[0ma\u001b[0m \u001b[1;32min\u001b[0m \u001b[0margs\u001b[0m\u001b[1;33m]\u001b[0m\u001b[1;33m\u001b[0m\u001b[0m\n\u001b[1;32m--> 123\u001b[1;33m     \u001b[1;32mreturn\u001b[0m \u001b[0m_java2py\u001b[0m\u001b[1;33m(\u001b[0m\u001b[0msc\u001b[0m\u001b[1;33m,\u001b[0m \u001b[0mfunc\u001b[0m\u001b[1;33m(\u001b[0m\u001b[1;33m*\u001b[0m\u001b[0margs\u001b[0m\u001b[1;33m)\u001b[0m\u001b[1;33m)\u001b[0m\u001b[1;33m\u001b[0m\u001b[0m\n\u001b[0m\u001b[0;32m    124\u001b[0m \u001b[1;33m\u001b[0m\u001b[0m\n\u001b[0;32m    125\u001b[0m \u001b[1;33m\u001b[0m\u001b[0m\n",
      "\u001b[1;32m/home/han/anaconda2/lib/python2.7/site-packages/py4j/java_gateway.pyc\u001b[0m in \u001b[0;36m__call__\u001b[1;34m(self, *args)\u001b[0m\n\u001b[0;32m    833\u001b[0m         \u001b[0manswer\u001b[0m \u001b[1;33m=\u001b[0m \u001b[0mself\u001b[0m\u001b[1;33m.\u001b[0m\u001b[0mgateway_client\u001b[0m\u001b[1;33m.\u001b[0m\u001b[0msend_command\u001b[0m\u001b[1;33m(\u001b[0m\u001b[0mcommand\u001b[0m\u001b[1;33m)\u001b[0m\u001b[1;33m\u001b[0m\u001b[0m\n\u001b[0;32m    834\u001b[0m         return_value = get_return_value(\n\u001b[1;32m--> 835\u001b[1;33m             answer, self.gateway_client, self.target_id, self.name)\n\u001b[0m\u001b[0;32m    836\u001b[0m \u001b[1;33m\u001b[0m\u001b[0m\n\u001b[0;32m    837\u001b[0m         \u001b[1;32mfor\u001b[0m \u001b[0mtemp_arg\u001b[0m \u001b[1;32min\u001b[0m \u001b[0mtemp_args\u001b[0m\u001b[1;33m:\u001b[0m\u001b[1;33m\u001b[0m\u001b[0m\n",
      "\u001b[1;32m/home/han/anaconda2/lib/python2.7/site-packages/py4j/protocol.pyc\u001b[0m in \u001b[0;36mget_return_value\u001b[1;34m(answer, gateway_client, target_id, name)\u001b[0m\n\u001b[0;32m    308\u001b[0m                 raise Py4JJavaError(\n\u001b[0;32m    309\u001b[0m                     \u001b[1;34m\"An error occurred while calling {0}{1}{2}.\\n\"\u001b[0m\u001b[1;33m.\u001b[0m\u001b[1;33m\u001b[0m\u001b[0m\n\u001b[1;32m--> 310\u001b[1;33m                     format(target_id, \".\", name), value)\n\u001b[0m\u001b[0;32m    311\u001b[0m             \u001b[1;32melse\u001b[0m\u001b[1;33m:\u001b[0m\u001b[1;33m\u001b[0m\u001b[0m\n\u001b[0;32m    312\u001b[0m                 raise Py4JError(\n",
      "\u001b[1;31mPy4JJavaError\u001b[0m: An error occurred while calling o94.trainWord2VecModel.\n: org.apache.spark.SparkException: Job aborted due to stage failure: Task 0 in stage 9.0 failed 1 times, most recent failure: Lost task 0.0 in stage 9.0 (TID 74, localhost): java.lang.ClassCastException: java.lang.String cannot be cast to java.lang.Iterable\n\tat org.apache.spark.mllib.feature.Word2Vec$$anonfun$fit$2.apply(Word2Vec.scala:431)\n\tat scala.collection.Iterator$$anon$11.next(Iterator.scala:328)\n\tat scala.collection.Iterator$$anon$13.hasNext(Iterator.scala:371)\n\tat scala.collection.Iterator$$anon$11.hasNext(Iterator.scala:327)\n\tat org.apache.spark.util.collection.ExternalSorter.insertAll(ExternalSorter.scala:189)\n\tat org.apache.spark.shuffle.sort.SortShuffleWriter.write(SortShuffleWriter.scala:64)\n\tat org.apache.spark.scheduler.ShuffleMapTask.runTask(ShuffleMapTask.scala:73)\n\tat org.apache.spark.scheduler.ShuffleMapTask.runTask(ShuffleMapTask.scala:41)\n\tat org.apache.spark.scheduler.Task.run(Task.scala:89)\n\tat org.apache.spark.executor.Executor$TaskRunner.run(Executor.scala:213)\n\tat java.util.concurrent.ThreadPoolExecutor.runWorker(ThreadPoolExecutor.java:1142)\n\tat java.util.concurrent.ThreadPoolExecutor$Worker.run(ThreadPoolExecutor.java:617)\n\tat java.lang.Thread.run(Thread.java:745)\n\nDriver stacktrace:\n\tat org.apache.spark.scheduler.DAGScheduler.org$apache$spark$scheduler$DAGScheduler$$failJobAndIndependentStages(DAGScheduler.scala:1431)\n\tat org.apache.spark.scheduler.DAGScheduler$$anonfun$abortStage$1.apply(DAGScheduler.scala:1419)\n\tat org.apache.spark.scheduler.DAGScheduler$$anonfun$abortStage$1.apply(DAGScheduler.scala:1418)\n\tat scala.collection.mutable.ResizableArray$class.foreach(ResizableArray.scala:59)\n\tat scala.collection.mutable.ArrayBuffer.foreach(ArrayBuffer.scala:47)\n\tat org.apache.spark.scheduler.DAGScheduler.abortStage(DAGScheduler.scala:1418)\n\tat org.apache.spark.scheduler.DAGScheduler$$anonfun$handleTaskSetFailed$1.apply(DAGScheduler.scala:799)\n\tat org.apache.spark.scheduler.DAGScheduler$$anonfun$handleTaskSetFailed$1.apply(DAGScheduler.scala:799)\n\tat scala.Option.foreach(Option.scala:236)\n\tat org.apache.spark.scheduler.DAGScheduler.handleTaskSetFailed(DAGScheduler.scala:799)\n\tat org.apache.spark.scheduler.DAGSchedulerEventProcessLoop.doOnReceive(DAGScheduler.scala:1640)\n\tat org.apache.spark.scheduler.DAGSchedulerEventProcessLoop.onReceive(DAGScheduler.scala:1599)\n\tat org.apache.spark.scheduler.DAGSchedulerEventProcessLoop.onReceive(DAGScheduler.scala:1588)\n\tat org.apache.spark.util.EventLoop$$anon$1.run(EventLoop.scala:48)\n\tat org.apache.spark.scheduler.DAGScheduler.runJob(DAGScheduler.scala:620)\n\tat org.apache.spark.SparkContext.runJob(SparkContext.scala:1832)\n\tat org.apache.spark.SparkContext.runJob(SparkContext.scala:1845)\n\tat org.apache.spark.SparkContext.runJob(SparkContext.scala:1858)\n\tat org.apache.spark.SparkContext.runJob(SparkContext.scala:1929)\n\tat org.apache.spark.rdd.RDD$$anonfun$collect$1.apply(RDD.scala:927)\n\tat org.apache.spark.rdd.RDDOperationScope$.withScope(RDDOperationScope.scala:150)\n\tat org.apache.spark.rdd.RDDOperationScope$.withScope(RDDOperationScope.scala:111)\n\tat org.apache.spark.rdd.RDD.withScope(RDD.scala:316)\n\tat org.apache.spark.rdd.RDD.collect(RDD.scala:926)\n\tat org.apache.spark.mllib.feature.Word2Vec.learnVocab(Word2Vec.scala:170)\n\tat org.apache.spark.mllib.feature.Word2Vec.fit(Word2Vec.scala:284)\n\tat org.apache.spark.mllib.feature.Word2Vec.fit(Word2Vec.scala:431)\n\tat org.apache.spark.mllib.api.python.PythonMLLibAPI.trainWord2VecModel(PythonMLLibAPI.scala:676)\n\tat sun.reflect.NativeMethodAccessorImpl.invoke0(Native Method)\n\tat sun.reflect.NativeMethodAccessorImpl.invoke(NativeMethodAccessorImpl.java:62)\n\tat sun.reflect.DelegatingMethodAccessorImpl.invoke(DelegatingMethodAccessorImpl.java:43)\n\tat java.lang.reflect.Method.invoke(Method.java:497)\n\tat py4j.reflection.MethodInvoker.invoke(MethodInvoker.java:231)\n\tat py4j.reflection.ReflectionEngine.invoke(ReflectionEngine.java:381)\n\tat py4j.Gateway.invoke(Gateway.java:259)\n\tat py4j.commands.AbstractCommand.invokeMethod(AbstractCommand.java:133)\n\tat py4j.commands.CallCommand.execute(CallCommand.java:79)\n\tat py4j.GatewayConnection.run(GatewayConnection.java:209)\n\tat java.lang.Thread.run(Thread.java:745)\nCaused by: java.lang.ClassCastException: java.lang.String cannot be cast to java.lang.Iterable\n\tat org.apache.spark.mllib.feature.Word2Vec$$anonfun$fit$2.apply(Word2Vec.scala:431)\n\tat scala.collection.Iterator$$anon$11.next(Iterator.scala:328)\n\tat scala.collection.Iterator$$anon$13.hasNext(Iterator.scala:371)\n\tat scala.collection.Iterator$$anon$11.hasNext(Iterator.scala:327)\n\tat org.apache.spark.util.collection.ExternalSorter.insertAll(ExternalSorter.scala:189)\n\tat org.apache.spark.shuffle.sort.SortShuffleWriter.write(SortShuffleWriter.scala:64)\n\tat org.apache.spark.scheduler.ShuffleMapTask.runTask(ShuffleMapTask.scala:73)\n\tat org.apache.spark.scheduler.ShuffleMapTask.runTask(ShuffleMapTask.scala:41)\n\tat org.apache.spark.scheduler.Task.run(Task.scala:89)\n\tat org.apache.spark.executor.Executor$TaskRunner.run(Executor.scala:213)\n\tat java.util.concurrent.ThreadPoolExecutor.runWorker(ThreadPoolExecutor.java:1142)\n\tat java.util.concurrent.ThreadPoolExecutor$Worker.run(ThreadPoolExecutor.java:617)\n\t... 1 more\n"
     ]
    }
   ],
   "source": [
    "word2vec.fit(tweets)"
   ]
  },
  {
   "cell_type": "code",
   "execution_count": null,
   "metadata": {
    "collapsed": true
   },
   "outputs": [],
   "source": []
  }
 ],
 "metadata": {
  "kernelspec": {
   "display_name": "Python 2",
   "language": "python",
   "name": "python2"
  },
  "language_info": {
   "codemirror_mode": {
    "name": "ipython",
    "version": 2
   },
   "file_extension": ".py",
   "mimetype": "text/x-python",
   "name": "python",
   "nbconvert_exporter": "python",
   "pygments_lexer": "ipython2",
   "version": "2.7.11"
  }
 },
 "nbformat": 4,
 "nbformat_minor": 0
}
